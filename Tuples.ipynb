{
 "cells": [
  {
   "cell_type": "markdown",
   "id": "1342a2cf-7357-4dfa-ba77-c7e46431a93a",
   "metadata": {},
   "source": [
    "# Tuples"
   ]
  },
  {
   "cell_type": "code",
   "execution_count": 1,
   "id": "49b7669b-7ec8-40ff-8217-6179ea9e60e1",
   "metadata": {},
   "outputs": [
    {
     "data": {
      "text/plain": [
       "tuple"
      ]
     },
     "execution_count": 1,
     "metadata": {},
     "output_type": "execute_result"
    }
   ],
   "source": [
    "t = (1,2,3,4)\n",
    "type(t)"
   ]
  },
  {
   "cell_type": "code",
   "execution_count": 2,
   "id": "8346e0ed-37fd-4dec-873a-fdadc8fd8be1",
   "metadata": {},
   "outputs": [
    {
     "data": {
      "text/plain": [
       "('hello', 5, 5.5)"
      ]
     },
     "execution_count": 2,
     "metadata": {},
     "output_type": "execute_result"
    }
   ],
   "source": [
    "t = ('hello',5,5.5)\n",
    "t"
   ]
  },
  {
   "cell_type": "code",
   "execution_count": 3,
   "id": "9473897a-8043-484d-9b9d-6ef2113ebf30",
   "metadata": {},
   "outputs": [
    {
     "data": {
      "text/plain": [
       "3"
      ]
     },
     "execution_count": 3,
     "metadata": {},
     "output_type": "execute_result"
    }
   ],
   "source": [
    "len(t)"
   ]
  },
  {
   "cell_type": "code",
   "execution_count": 4,
   "id": "0765739d-76c0-4c58-a738-fe9ae7d8fb33",
   "metadata": {},
   "outputs": [
    {
     "data": {
      "text/plain": [
       "tuple"
      ]
     },
     "execution_count": 4,
     "metadata": {},
     "output_type": "execute_result"
    }
   ],
   "source": [
    "t2 = 1,2,3,4 #even if you dont put the brackets then its type is also a tuple\n",
    "type(t2)"
   ]
  },
  {
   "cell_type": "code",
   "execution_count": 5,
   "id": "ae9b575f-9f8d-4c95-80b6-2097ef7b0fb8",
   "metadata": {},
   "outputs": [],
   "source": [
    "t1 = ('hello',5,5.5,[2,3,4]) #a tupple can have a nested tuple and also a tuple can have a nested list inside it"
   ]
  },
  {
   "cell_type": "code",
   "execution_count": 6,
   "id": "33801e57-7ed4-44bd-8422-76d16b5e9835",
   "metadata": {},
   "outputs": [
    {
     "data": {
      "text/plain": [
       "4"
      ]
     },
     "execution_count": 6,
     "metadata": {},
     "output_type": "execute_result"
    }
   ],
   "source": [
    "len(t1)"
   ]
  },
  {
   "cell_type": "code",
   "execution_count": 7,
   "id": "a0ab0c78-7320-4394-a900-6a8337fd8c8c",
   "metadata": {},
   "outputs": [
    {
     "data": {
      "text/plain": [
       "tuple"
      ]
     },
     "execution_count": 7,
     "metadata": {},
     "output_type": "execute_result"
    }
   ],
   "source": [
    "type(t1)"
   ]
  },
  {
   "cell_type": "code",
   "execution_count": 8,
   "id": "1a387d5f-a5a5-44b0-ae67-8aa695aed6ba",
   "metadata": {},
   "outputs": [
    {
     "data": {
      "text/plain": [
       "4"
      ]
     },
     "execution_count": 8,
     "metadata": {},
     "output_type": "execute_result"
    }
   ],
   "source": [
    "t2 = ('hello',5,5.5,(2,3,4))\n",
    "len(t2)"
   ]
  },
  {
   "cell_type": "code",
   "execution_count": 10,
   "id": "5a0e1300-2b2e-490a-bf9a-dbb0138df570",
   "metadata": {},
   "outputs": [
    {
     "data": {
      "text/plain": [
       "list"
      ]
     },
     "execution_count": 10,
     "metadata": {},
     "output_type": "execute_result"
    }
   ],
   "source": [
    "var = t1[3]\n",
    "type(var)"
   ]
  },
  {
   "cell_type": "code",
   "execution_count": 11,
   "id": "c52eed79-6459-4bc5-95ac-5bfa1ade7a49",
   "metadata": {},
   "outputs": [
    {
     "data": {
      "text/plain": [
       "[2, 3, 4]"
      ]
     },
     "execution_count": 11,
     "metadata": {},
     "output_type": "execute_result"
    }
   ],
   "source": [
    "t1[3]"
   ]
  },
  {
   "cell_type": "code",
   "execution_count": 12,
   "id": "28766309-5e25-4b85-9aff-9cb9c5b3aedc",
   "metadata": {},
   "outputs": [
    {
     "data": {
      "text/plain": [
       "list"
      ]
     },
     "execution_count": 12,
     "metadata": {},
     "output_type": "execute_result"
    }
   ],
   "source": [
    "type(t1[3])"
   ]
  },
  {
   "cell_type": "code",
   "execution_count": 13,
   "id": "cbeb5def-86ba-48fb-a4e6-40220e387161",
   "metadata": {},
   "outputs": [
    {
     "data": {
      "text/plain": [
       "3"
      ]
     },
     "execution_count": 13,
     "metadata": {},
     "output_type": "execute_result"
    }
   ],
   "source": [
    "var[1]"
   ]
  },
  {
   "cell_type": "code",
   "execution_count": 15,
   "id": "428c42a2-2a75-4acc-b9fa-495413873f52",
   "metadata": {},
   "outputs": [
    {
     "data": {
      "text/plain": [
       "3"
      ]
     },
     "execution_count": 15,
     "metadata": {},
     "output_type": "execute_result"
    }
   ],
   "source": [
    "#this is how you access the nested list or nested tuple\n",
    "t1[3][1]"
   ]
  },
  {
   "cell_type": "code",
   "execution_count": 16,
   "id": "38e0e265-68bc-429a-ada2-1845d069dd2e",
   "metadata": {},
   "outputs": [
    {
     "data": {
      "text/plain": [
       "3"
      ]
     },
     "execution_count": 16,
     "metadata": {},
     "output_type": "execute_result"
    }
   ],
   "source": [
    "t2[3][1]"
   ]
  },
  {
   "cell_type": "code",
   "execution_count": 17,
   "id": "bdeacdc2-6b6e-4f6c-86b6-1f3afdd14385",
   "metadata": {},
   "outputs": [
    {
     "data": {
      "text/plain": [
       "int"
      ]
     },
     "execution_count": 17,
     "metadata": {},
     "output_type": "execute_result"
    }
   ],
   "source": [
    "type(t2[3][1])"
   ]
  },
  {
   "cell_type": "code",
   "execution_count": 18,
   "id": "1bdf3512-1e94-4c23-b418-68d0dcd6339f",
   "metadata": {},
   "outputs": [
    {
     "name": "stdout",
     "output_type": "stream",
     "text": [
      "(1, 2, 3, 4, 5)\n",
      "<class 'tuple'>\n"
     ]
    }
   ],
   "source": [
    "t1 = 1,2,3,4,5\n",
    "print(t1)\n",
    "print(type(t1))"
   ]
  },
  {
   "cell_type": "code",
   "execution_count": 19,
   "id": "cabd0201-a0d5-4fc3-b4ea-a3038c170ae0",
   "metadata": {},
   "outputs": [
    {
     "data": {
      "text/plain": [
       "tuple"
      ]
     },
     "execution_count": 19,
     "metadata": {},
     "output_type": "execute_result"
    }
   ],
   "source": [
    "t1 = 1.2,\n",
    "type(t1)"
   ]
  },
  {
   "cell_type": "code",
   "execution_count": 20,
   "id": "b6524e49-f02d-41d2-967c-48eddcaad9e2",
   "metadata": {},
   "outputs": [
    {
     "data": {
      "text/plain": [
       "1"
      ]
     },
     "execution_count": 20,
     "metadata": {},
     "output_type": "execute_result"
    }
   ],
   "source": [
    "len(t1)"
   ]
  },
  {
   "cell_type": "code",
   "execution_count": 21,
   "id": "c98500a7-df80-43c9-affb-7d2055c1c396",
   "metadata": {},
   "outputs": [
    {
     "data": {
      "text/plain": [
       "tuple"
      ]
     },
     "execution_count": 21,
     "metadata": {},
     "output_type": "execute_result"
    }
   ],
   "source": [
    "t2 = (2,)\n",
    "type(t2)"
   ]
  },
  {
   "cell_type": "code",
   "execution_count": 22,
   "id": "fd91e68d-38c0-4ed2-b8e2-6335b0e9bde9",
   "metadata": {},
   "outputs": [
    {
     "name": "stdout",
     "output_type": "stream",
     "text": [
      "(1,)\n"
     ]
    }
   ],
   "source": [
    "t2 = 1,\n",
    "print(t2)"
   ]
  },
  {
   "cell_type": "code",
   "execution_count": 24,
   "id": "d7b286d0-fec5-4ff1-bd79-47b14f6efc6f",
   "metadata": {},
   "outputs": [
    {
     "data": {
      "text/plain": [
       "int"
      ]
     },
     "execution_count": 24,
     "metadata": {},
     "output_type": "execute_result"
    }
   ],
   "source": [
    "#this is not a tuple because we have put only one value inside the brackets\n",
    "#if i want it to be a tuple i have to put 2, not only 2 even if it is inside brackets\n",
    "t5 = (1)\n",
    "type(t5)"
   ]
  },
  {
   "cell_type": "markdown",
   "id": "3644f169-e188-4fdd-8821-7c5f9604aada",
   "metadata": {},
   "source": [
    "### indexing in tuple"
   ]
  },
  {
   "cell_type": "code",
   "execution_count": 25,
   "id": "22c36adf-c174-4741-a099-da2b8110d811",
   "metadata": {},
   "outputs": [],
   "source": [
    "t = ('alex',10,'python',100)"
   ]
  },
  {
   "cell_type": "code",
   "execution_count": 26,
   "id": "2149cc83-edb8-4889-a99e-e15d2729018b",
   "metadata": {},
   "outputs": [
    {
     "name": "stdout",
     "output_type": "stream",
     "text": [
      "alex\n",
      "10\n",
      "python\n",
      "100\n"
     ]
    }
   ],
   "source": [
    "print(t[0])\n",
    "print(t[1])\n",
    "print(t[2])\n",
    "print(t[3])"
   ]
  },
  {
   "cell_type": "code",
   "execution_count": 27,
   "id": "0772d0a8-7491-4699-9be4-e9a6e9e0f305",
   "metadata": {},
   "outputs": [
    {
     "data": {
      "text/plain": [
       "4"
      ]
     },
     "execution_count": 27,
     "metadata": {},
     "output_type": "execute_result"
    }
   ],
   "source": [
    "len(t)"
   ]
  },
  {
   "cell_type": "code",
   "execution_count": 29,
   "id": "08f72683-a3b3-41eb-a0d7-b66f5cded483",
   "metadata": {},
   "outputs": [
    {
     "data": {
      "text/plain": [
       "(10, 'python', 100)"
      ]
     },
     "execution_count": 29,
     "metadata": {},
     "output_type": "execute_result"
    }
   ],
   "source": [
    "t[1:]"
   ]
  },
  {
   "cell_type": "code",
   "execution_count": 34,
   "id": "21e31282-3be2-455e-9b85-1b6fe5418dfe",
   "metadata": {},
   "outputs": [
    {
     "data": {
      "text/plain": [
       "('alex', 10, 'python')"
      ]
     },
     "execution_count": 34,
     "metadata": {},
     "output_type": "execute_result"
    }
   ],
   "source": [
    "t[0:3] #the last value like in this example 3 this index is not inclusive\n",
    "#so it will get data from 0 to 2 only"
   ]
  },
  {
   "cell_type": "code",
   "execution_count": 31,
   "id": "f98926c8-237c-47a4-a0ba-60354f8cda63",
   "metadata": {},
   "outputs": [
    {
     "data": {
      "text/plain": [
       "'world'"
      ]
     },
     "execution_count": 31,
     "metadata": {},
     "output_type": "execute_result"
    }
   ],
   "source": [
    "str1 = \"hello world\"\n",
    "str1[6:]"
   ]
  },
  {
   "cell_type": "markdown",
   "id": "48afe097-66b1-4582-882f-d21ce0245362",
   "metadata": {},
   "source": [
    "### slicing"
   ]
  },
  {
   "cell_type": "code",
   "execution_count": 36,
   "id": "50df6f34-20e9-4e0a-b12f-20b6c5175ec1",
   "metadata": {},
   "outputs": [
    {
     "data": {
      "text/plain": [
       "('alex', 10)"
      ]
     },
     "execution_count": 36,
     "metadata": {},
     "output_type": "execute_result"
    }
   ],
   "source": [
    "t = ('alex',10,'python',100)\n",
    "t[0:2]"
   ]
  },
  {
   "cell_type": "code",
   "execution_count": 37,
   "id": "1fb13d0a-ccc6-4285-96cb-fe9c69ab94ce",
   "metadata": {},
   "outputs": [
    {
     "data": {
      "text/plain": [
       "('python', 100)"
      ]
     },
     "execution_count": 37,
     "metadata": {},
     "output_type": "execute_result"
    }
   ],
   "source": [
    "t[2:]"
   ]
  },
  {
   "cell_type": "code",
   "execution_count": 38,
   "id": "93765e08-ef00-4b08-860d-925b5d1acc43",
   "metadata": {},
   "outputs": [
    {
     "data": {
      "text/plain": [
       "('python', 100)"
      ]
     },
     "execution_count": 38,
     "metadata": {},
     "output_type": "execute_result"
    }
   ],
   "source": [
    "t[-2:] "
   ]
  },
  {
   "cell_type": "code",
   "execution_count": 39,
   "id": "bb595c85-58dc-452c-85bb-861cef6b80bb",
   "metadata": {},
   "outputs": [
    {
     "data": {
      "text/plain": [
       "('python', 100)"
      ]
     },
     "execution_count": 39,
     "metadata": {},
     "output_type": "execute_result"
    }
   ],
   "source": [
    "t[2:4]"
   ]
  },
  {
   "cell_type": "markdown",
   "id": "469c8d98-195d-4b00-aa44-32a2810f4a81",
   "metadata": {},
   "source": [
    "### concatenation"
   ]
  },
  {
   "cell_type": "code",
   "execution_count": 41,
   "id": "13b25ded-02d3-41d1-a24c-f3546a6d10f6",
   "metadata": {},
   "outputs": [
    {
     "name": "stdout",
     "output_type": "stream",
     "text": [
      "('welcome', 'to', \"today's\", 'class', 'on', 'python')\n"
     ]
    }
   ],
   "source": [
    "tup1 = (\"welcome\",\"to\",\"today's\")\n",
    "tup2 = (\"class\",\"on\",\"python\")\n",
    "tup3 = tup1+tup2\n",
    "print(tup3)"
   ]
  },
  {
   "cell_type": "markdown",
   "id": "d7181fbe-88dc-4ac7-9ec4-5413cede64dc",
   "metadata": {},
   "source": [
    "### min max sum functions"
   ]
  },
  {
   "cell_type": "code",
   "execution_count": 48,
   "id": "5e40f9c3-35cc-450f-b0f7-96de86bbf272",
   "metadata": {},
   "outputs": [
    {
     "name": "stdout",
     "output_type": "stream",
     "text": [
      "20\n",
      "8\n",
      "2\n"
     ]
    }
   ],
   "source": [
    "t= (2,4,6,8)\n",
    "print(sum(t))\n",
    "print(max(t))\n",
    "print(min(t))"
   ]
  },
  {
   "cell_type": "code",
   "execution_count": 45,
   "id": "f165145e-e7df-459a-aca5-21cefd67e608",
   "metadata": {},
   "outputs": [
    {
     "ename": "TypeError",
     "evalue": "unsupported operand type(s) for +: 'int' and 'str'",
     "output_type": "error",
     "traceback": [
      "\u001b[31m---------------------------------------------------------------------------\u001b[39m",
      "\u001b[31mTypeError\u001b[39m                                 Traceback (most recent call last)",
      "\u001b[36mCell\u001b[39m\u001b[36m \u001b[39m\u001b[32mIn[45]\u001b[39m\u001b[32m, line 2\u001b[39m\n\u001b[32m      1\u001b[39m t = (\u001b[32m2\u001b[39m,\u001b[32m4\u001b[39m,\u001b[32m6\u001b[39m,\u001b[33m\"\u001b[39m\u001b[33mhello\u001b[39m\u001b[33m\"\u001b[39m)\n\u001b[32m----> \u001b[39m\u001b[32m2\u001b[39m \u001b[38;5;28;43msum\u001b[39;49m\u001b[43m(\u001b[49m\u001b[43mt\u001b[49m\u001b[43m)\u001b[49m \n\u001b[32m      3\u001b[39m \u001b[38;5;28mmax\u001b[39m(t)\n\u001b[32m      4\u001b[39m \u001b[38;5;28mmin\u001b[39m(t)\n",
      "\u001b[31mTypeError\u001b[39m: unsupported operand type(s) for +: 'int' and 'str'"
     ]
    }
   ],
   "source": [
    "t = (2,4,6,\"hello\")\n",
    "sum(t) \n",
    "#i can't use min max sum with a string inside the tuple"
   ]
  },
  {
   "cell_type": "code",
   "execution_count": 46,
   "id": "e3cae1b1-1965-4e67-915c-f50fe064e461",
   "metadata": {},
   "outputs": [
    {
     "ename": "TypeError",
     "evalue": "'>' not supported between instances of 'str' and 'int'",
     "output_type": "error",
     "traceback": [
      "\u001b[31m---------------------------------------------------------------------------\u001b[39m",
      "\u001b[31mTypeError\u001b[39m                                 Traceback (most recent call last)",
      "\u001b[36mCell\u001b[39m\u001b[36m \u001b[39m\u001b[32mIn[46]\u001b[39m\u001b[32m, line 1\u001b[39m\n\u001b[32m----> \u001b[39m\u001b[32m1\u001b[39m \u001b[38;5;28;43mmax\u001b[39;49m\u001b[43m(\u001b[49m\u001b[43mt\u001b[49m\u001b[43m)\u001b[49m\n",
      "\u001b[31mTypeError\u001b[39m: '>' not supported between instances of 'str' and 'int'"
     ]
    }
   ],
   "source": [
    "max(t)"
   ]
  },
  {
   "cell_type": "code",
   "execution_count": 47,
   "id": "7a7aa2da-b76d-4153-9cfb-b2aadd37b156",
   "metadata": {},
   "outputs": [
    {
     "ename": "TypeError",
     "evalue": "'<' not supported between instances of 'str' and 'int'",
     "output_type": "error",
     "traceback": [
      "\u001b[31m---------------------------------------------------------------------------\u001b[39m",
      "\u001b[31mTypeError\u001b[39m                                 Traceback (most recent call last)",
      "\u001b[36mCell\u001b[39m\u001b[36m \u001b[39m\u001b[32mIn[47]\u001b[39m\u001b[32m, line 1\u001b[39m\n\u001b[32m----> \u001b[39m\u001b[32m1\u001b[39m \u001b[38;5;28;43mmin\u001b[39;49m\u001b[43m(\u001b[49m\u001b[43mt\u001b[49m\u001b[43m)\u001b[49m\n",
      "\u001b[31mTypeError\u001b[39m: '<' not supported between instances of 'str' and 'int'"
     ]
    }
   ],
   "source": [
    "min(t)"
   ]
  },
  {
   "cell_type": "code",
   "execution_count": 49,
   "id": "f5b6968b-cf05-46d7-9eb4-e5cf5d441b60",
   "metadata": {},
   "outputs": [
    {
     "data": {
      "text/plain": [
       "7"
      ]
     },
     "execution_count": 49,
     "metadata": {},
     "output_type": "execute_result"
    }
   ],
   "source": [
    "tuple1 = (1,2,3,4,\"hello\",\"world\",(1,2,3))\n",
    "len(tuple1)"
   ]
  },
  {
   "cell_type": "code",
   "execution_count": 54,
   "id": "732dd264-473a-4a06-9738-2323479803c5",
   "metadata": {},
   "outputs": [
    {
     "name": "stdout",
     "output_type": "stream",
     "text": [
      "2\n",
      "2\n",
      "2\n",
      "2\n"
     ]
    }
   ],
   "source": [
    "print(tuple1[-1][1])\n",
    "print(tuple1[6][1])\n",
    "print(tuple1[-1][-2])\n",
    "print(tuple1[6][-2]) #basically they all mean the same"
   ]
  },
  {
   "cell_type": "code",
   "execution_count": 53,
   "id": "c6c96455-ea02-42ac-abad-fd89f0655542",
   "metadata": {},
   "outputs": [
    {
     "data": {
      "text/plain": [
       "2"
      ]
     },
     "execution_count": 53,
     "metadata": {},
     "output_type": "execute_result"
    }
   ],
   "source": [
    "tuple2 = (1,2,3)\n",
    "tuple2[1]"
   ]
  },
  {
   "cell_type": "markdown",
   "id": "2b337d6f-112c-4aa3-a2f8-e4e70052bde2",
   "metadata": {},
   "source": [
    "### immutability"
   ]
  },
  {
   "cell_type": "code",
   "execution_count": 55,
   "id": "9f0a6f7d-fe6e-4449-82a5-cf140225bd42",
   "metadata": {},
   "outputs": [],
   "source": [
    "t = (\"hello!\",\"welcome\",5,10,\"world\",\"of\",\"analytics\")"
   ]
  },
  {
   "cell_type": "code",
   "execution_count": 56,
   "id": "ba4145c1-9bed-46a5-8f55-05d01d93d957",
   "metadata": {},
   "outputs": [
    {
     "data": {
      "text/plain": [
       "10"
      ]
     },
     "execution_count": 56,
     "metadata": {},
     "output_type": "execute_result"
    }
   ],
   "source": [
    "t[3]"
   ]
  },
  {
   "cell_type": "code",
   "execution_count": 58,
   "id": "dbcc87de-a20c-4734-ba84-e2b29972948c",
   "metadata": {},
   "outputs": [
    {
     "ename": "TypeError",
     "evalue": "'tuple' object does not support item assignment",
     "output_type": "error",
     "traceback": [
      "\u001b[31m---------------------------------------------------------------------------\u001b[39m",
      "\u001b[31mTypeError\u001b[39m                                 Traceback (most recent call last)",
      "\u001b[36mCell\u001b[39m\u001b[36m \u001b[39m\u001b[32mIn[58]\u001b[39m\u001b[32m, line 1\u001b[39m\n\u001b[32m----> \u001b[39m\u001b[32m1\u001b[39m \u001b[43mt\u001b[49m\u001b[43m[\u001b[49m\u001b[32;43m3\u001b[39;49m\u001b[43m]\u001b[49m = \u001b[32m5\u001b[39m \u001b[38;5;66;03m#this is immutability that i can't change the value at a certain index once it was already entered\u001b[39;00m\n",
      "\u001b[31mTypeError\u001b[39m: 'tuple' object does not support item assignment"
     ]
    }
   ],
   "source": [
    "t[3] = 5 #this is immutability that i can't change the value at a certain index once it was already entered"
   ]
  },
  {
   "cell_type": "code",
   "execution_count": 59,
   "id": "31c9074f-3f3a-41dd-a2b5-5bda9b43ba7a",
   "metadata": {},
   "outputs": [
    {
     "data": {
      "text/plain": [
       "('hello!', 'welcome')"
      ]
     },
     "execution_count": 59,
     "metadata": {},
     "output_type": "execute_result"
    }
   ],
   "source": [
    "t[0:2]"
   ]
  },
  {
   "cell_type": "code",
   "execution_count": 60,
   "id": "930b295b-e186-4a87-aa5e-57835908fed1",
   "metadata": {},
   "outputs": [
    {
     "data": {
      "text/plain": [
       "('world', 'of', 'analytics')"
      ]
     },
     "execution_count": 60,
     "metadata": {},
     "output_type": "execute_result"
    }
   ],
   "source": [
    "t[-3:]"
   ]
  },
  {
   "cell_type": "code",
   "execution_count": 62,
   "id": "77f5ee20-747e-4141-acbf-4ee10ec79aa3",
   "metadata": {},
   "outputs": [],
   "source": [
    "new_tuple = t[0:2]+(\"to\",\"the\") +t[-3:]"
   ]
  },
  {
   "cell_type": "code",
   "execution_count": 63,
   "id": "246cf5e9-432c-46e4-a32f-ab750e5e70ac",
   "metadata": {},
   "outputs": [
    {
     "data": {
      "text/plain": [
       "('hello!', 'welcome', 'to', 'the', 'world', 'of', 'analytics')"
      ]
     },
     "execution_count": 63,
     "metadata": {},
     "output_type": "execute_result"
    }
   ],
   "source": [
    "#how to update the 2nd and 3rd element\n",
    "new_tuple"
   ]
  },
  {
   "cell_type": "code",
   "execution_count": 65,
   "id": "a54752a5-f400-4227-8e81-3abea4e59f91",
   "metadata": {},
   "outputs": [
    {
     "data": {
      "text/plain": [
       "'s'"
      ]
     },
     "execution_count": 65,
     "metadata": {},
     "output_type": "execute_result"
    }
   ],
   "source": [
    "t = (\"disco\",12,4.5)\n",
    "t[0][2] #i can get letters if i deal with the string as a nested tuple or list"
   ]
  },
  {
   "cell_type": "markdown",
   "id": "fbc62bd5-bea0-443e-bbd6-061fc88c8219",
   "metadata": {},
   "source": [
    "### sorting a tuple"
   ]
  },
  {
   "cell_type": "code",
   "execution_count": 68,
   "id": "63d2ba48-bd0e-4655-a794-d4744e8d93d6",
   "metadata": {},
   "outputs": [
    {
     "name": "stdout",
     "output_type": "stream",
     "text": [
      "[1, 2, 3, 4, 5, 8]\n",
      "<class 'list'>\n"
     ]
    }
   ],
   "source": [
    "t = (2,3,8,5,4,1)\n",
    "new_var = sorted(t)\n",
    "print(new_var)\n",
    "print(type(new_var)) \n",
    "#why does it turn into a list ?\n",
    "#lists are mutable but tuples are not\n",
    "#in sorting we are changing the values inside each index and this is not possible since tuples are immutable\n",
    "#so basically we have to change the data type to a list so that we can move the numbers and sort it bec as i mentioned earlier \n",
    "#list are mutable then we can transform it back into a tuple"
   ]
  },
  {
   "cell_type": "code",
   "execution_count": 67,
   "id": "d1005ebd-bfd3-4aa5-b73d-60786b035dcf",
   "metadata": {},
   "outputs": [
    {
     "data": {
      "text/plain": [
       "[1, 2, 3, 4, 5, 8]"
      ]
     },
     "execution_count": 67,
     "metadata": {},
     "output_type": "execute_result"
    }
   ],
   "source": [
    "new_list = sorted(t)\n",
    "new_list"
   ]
  },
  {
   "cell_type": "code",
   "execution_count": 69,
   "id": "674f9f59-4342-4b23-8f36-843c9ab28436",
   "metadata": {},
   "outputs": [
    {
     "data": {
      "text/plain": [
       "tuple"
      ]
     },
     "execution_count": 69,
     "metadata": {},
     "output_type": "execute_result"
    }
   ],
   "source": [
    "#type casting\n",
    "t2 = tuple(new_list)\n",
    "type(t2)"
   ]
  },
  {
   "cell_type": "code",
   "execution_count": 70,
   "id": "3ea8b19c-07ab-42be-80c1-e923ae9494b4",
   "metadata": {},
   "outputs": [
    {
     "data": {
      "text/plain": [
       "(1, 2, 3, 4, 5, 8)"
      ]
     },
     "execution_count": 70,
     "metadata": {},
     "output_type": "execute_result"
    }
   ],
   "source": [
    "t2"
   ]
  },
  {
   "cell_type": "code",
   "execution_count": 71,
   "id": "2a311b9b-356e-4b6f-88ed-ba1b9ce3d2a2",
   "metadata": {},
   "outputs": [
    {
     "ename": "IndexError",
     "evalue": "tuple index out of range",
     "output_type": "error",
     "traceback": [
      "\u001b[31m---------------------------------------------------------------------------\u001b[39m",
      "\u001b[31mIndexError\u001b[39m                                Traceback (most recent call last)",
      "\u001b[36mCell\u001b[39m\u001b[36m \u001b[39m\u001b[32mIn[71]\u001b[39m\u001b[32m, line 4\u001b[39m\n\u001b[32m      2\u001b[39m t = (\u001b[32m1\u001b[39m,\u001b[32m2\u001b[39m,\u001b[32m4\u001b[39m,\u001b[32m3\u001b[39m)\n\u001b[32m      3\u001b[39m \u001b[38;5;66;03m#what will be the output of t[4]\u001b[39;00m\n\u001b[32m----> \u001b[39m\u001b[32m4\u001b[39m \u001b[43mt\u001b[49m\u001b[43m[\u001b[49m\u001b[32;43m4\u001b[39;49m\u001b[43m]\u001b[49m\n",
      "\u001b[31mIndexError\u001b[39m: tuple index out of range"
     ]
    }
   ],
   "source": [
    "#question 1\n",
    "t = (1,2,4,3)\n",
    "#what will be the output of t[4]\n",
    "t[4]"
   ]
  },
  {
   "cell_type": "code",
   "execution_count": 74,
   "id": "15d9d64c-268a-4c53-b5d7-eeaa472030e4",
   "metadata": {},
   "outputs": [
    {
     "name": "stdout",
     "output_type": "stream",
     "text": [
      "<class 'str'>\n",
      "<class 'tuple'>\n",
      "<class 'tuple'>\n"
     ]
    }
   ],
   "source": [
    "#question 2\n",
    "#which of the following declarations can be used to create a python tuple\n",
    "x=('2')\n",
    "print(type(x))\n",
    "x=1,2,\n",
    "print(type(x))\n",
    "x = ((1,2,3),4,5)\n",
    "print(type(x))\n",
    "#x = (hello,'2','3') this one is syntax error\n",
    "#print(type(x))"
   ]
  },
  {
   "cell_type": "code",
   "execution_count": null,
   "id": "71788c47-a3dd-4802-a891-f014da32448d",
   "metadata": {},
   "outputs": [],
   "source": []
  }
 ],
 "metadata": {
  "kernelspec": {
   "display_name": "Python 3 (ipykernel)",
   "language": "python",
   "name": "python3"
  },
  "language_info": {
   "codemirror_mode": {
    "name": "ipython",
    "version": 3
   },
   "file_extension": ".py",
   "mimetype": "text/x-python",
   "name": "python",
   "nbconvert_exporter": "python",
   "pygments_lexer": "ipython3",
   "version": "3.13.2"
  }
 },
 "nbformat": 4,
 "nbformat_minor": 5
}
