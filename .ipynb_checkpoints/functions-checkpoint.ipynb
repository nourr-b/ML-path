{
 "cells": [
  {
   "cell_type": "markdown",
   "id": "09065dbc-99e6-4ea8-b488-a11cfb6f5da6",
   "metadata": {},
   "source": [
    "# Functions"
   ]
  },
  {
   "cell_type": "code",
   "execution_count": 4,
   "id": "a1011e92-6955-479c-b06f-4ec9fcddc569",
   "metadata": {},
   "outputs": [
    {
     "name": "stdin",
     "output_type": "stream",
     "text": [
      "enter a number 13\n"
     ]
    },
    {
     "name": "stdout",
     "output_type": "stream",
     "text": [
      "odd\n"
     ]
    }
   ],
   "source": [
    "#even odd function\n",
    "def even_odd (num):\n",
    "    if(num%2==0):\n",
    "        print(\"even\")\n",
    "    else:\n",
    "        print(\"odd\")\n",
    "x = int(input(\"enter a number\"))\n",
    "even_odd(x)"
   ]
  },
  {
   "cell_type": "code",
   "execution_count": 14,
   "id": "b99a7703-a6ae-43bd-bc10-adf6882219d3",
   "metadata": {},
   "outputs": [
    {
     "name": "stdin",
     "output_type": "stream",
     "text": [
      "enter a number 6\n"
     ]
    },
    {
     "name": "stdout",
     "output_type": "stream",
     "text": [
      "720\n"
     ]
    }
   ],
   "source": [
    "#factorial\n",
    "def factorial(num):\n",
    "    i = num\n",
    "    fact = 1\n",
    "    while (i!=0):\n",
    "        fact = fact * i\n",
    "        i = i-1\n",
    "    print(fact)\n",
    "x = int(input(\"enter a number\"))\n",
    "factorial(x)"
   ]
  },
  {
   "cell_type": "code",
   "execution_count": 11,
   "id": "032d8814-821c-4dcd-9694-4a3dec7f5b58",
   "metadata": {},
   "outputs": [
    {
     "name": "stdin",
     "output_type": "stream",
     "text": [
      "enter a number 5\n"
     ]
    },
    {
     "name": "stdout",
     "output_type": "stream",
     "text": [
      "15\n"
     ]
    }
   ],
   "source": [
    "#sum of all natural numbers till the number provided\n",
    "def sum(num):\n",
    "    c= 0\n",
    "    for i in range(0,num+1):\n",
    "        c = c+i\n",
    "    print(c)\n",
    "x = int(input(\"enter a number\"))\n",
    "sum(x)"
   ]
  },
  {
   "cell_type": "code",
   "execution_count": 18,
   "id": "d06b8620-660a-463c-aafb-84cfd0e53964",
   "metadata": {},
   "outputs": [
    {
     "name": "stdout",
     "output_type": "stream",
     "text": [
      "name Nour\n",
      "age 25\n"
     ]
    }
   ],
   "source": [
    "def func(name,age=23): #this is to give a default value to a variable if it is not given\n",
    "    print(\"name\",name)\n",
    "    print(\"age\",age)\n",
    "func(\"Nour\",25)"
   ]
  },
  {
   "cell_type": "code",
   "execution_count": 19,
   "id": "e1cad609-3df6-40a8-bcf4-9ce88dc99292",
   "metadata": {},
   "outputs": [
    {
     "name": "stdout",
     "output_type": "stream",
     "text": [
      "name Nour\n",
      "age 23\n"
     ]
    }
   ],
   "source": [
    "func(\"Nour\")"
   ]
  },
  {
   "cell_type": "markdown",
   "id": "c2ae39b4-e9eb-4e62-8875-14090d200b59",
   "metadata": {},
   "source": [
    "## Lambda Functions"
   ]
  },
  {
   "cell_type": "code",
   "execution_count": 20,
   "id": "4af21d4a-24a0-440d-872c-cffef9c84e5a",
   "metadata": {},
   "outputs": [],
   "source": [
    "# create a lambda function that adds 10 to the number passed as an argument and print the result\n",
    "x = lambda a: a+10"
   ]
  },
  {
   "cell_type": "code",
   "execution_count": 21,
   "id": "d7271c66-f706-435f-96d6-a8a85c62be71",
   "metadata": {},
   "outputs": [
    {
     "name": "stdout",
     "output_type": "stream",
     "text": [
      "15\n"
     ]
    }
   ],
   "source": [
    "print(x(5))"
   ]
  },
  {
   "cell_type": "code",
   "execution_count": 23,
   "id": "f54d4313-79a8-488b-8723-d6f8de168f85",
   "metadata": {},
   "outputs": [
    {
     "name": "stdout",
     "output_type": "stream",
     "text": [
      "odd\n",
      "even\n"
     ]
    }
   ],
   "source": [
    "# create a lambda function that checks if a number is even or odd\n",
    "x = lambda a: \"even\" if a%2==0 else \"odd\"\n",
    "\n",
    "print(x(101))\n",
    "print(x(102))"
   ]
  },
  {
   "cell_type": "code",
   "execution_count": 27,
   "id": "587788b9-f03e-4a69-b113-e325fe2e77bc",
   "metadata": {},
   "outputs": [
    {
     "name": "stdout",
     "output_type": "stream",
     "text": [
      "10\n"
     ]
    }
   ],
   "source": [
    "#create a lambda function that adds two integers\n",
    "x = lambda a,b:a+b\n",
    "print(x(5,5))"
   ]
  },
  {
   "cell_type": "code",
   "execution_count": null,
   "id": "4c757591-82a3-45cf-a33d-0788b91adbfd",
   "metadata": {},
   "outputs": [],
   "source": []
  }
 ],
 "metadata": {
  "kernelspec": {
   "display_name": "Python 3 (ipykernel)",
   "language": "python",
   "name": "python3"
  },
  "language_info": {
   "codemirror_mode": {
    "name": "ipython",
    "version": 3
   },
   "file_extension": ".py",
   "mimetype": "text/x-python",
   "name": "python",
   "nbconvert_exporter": "python",
   "pygments_lexer": "ipython3",
   "version": "3.13.2"
  }
 },
 "nbformat": 4,
 "nbformat_minor": 5
}
