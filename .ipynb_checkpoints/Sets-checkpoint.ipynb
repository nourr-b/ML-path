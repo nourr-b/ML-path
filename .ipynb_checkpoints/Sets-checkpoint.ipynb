{
 "cells": [
  {
   "cell_type": "markdown",
   "id": "e9313ba5-adad-41fd-913e-e81cd0e30e79",
   "metadata": {},
   "source": [
    "# Sets"
   ]
  },
  {
   "cell_type": "markdown",
   "id": "4f25058c-142a-4c5a-a49c-3db07d0fc672",
   "metadata": {},
   "source": [
    "- sets are a type of collection like lists,tuples storing mixed data\n",
    "- sets are enclosed within curly brackets and elements are written as comma-seperated\n",
    "- sets are unordered\n",
    "- sets does not allow duplicates"
   ]
  },
  {
   "cell_type": "code",
   "execution_count": 1,
   "id": "a3b92526-cd01-4180-8027-96bbc2bf7d76",
   "metadata": {},
   "outputs": [
    {
     "data": {
      "text/plain": [
       "list"
      ]
     },
     "execution_count": 1,
     "metadata": {},
     "output_type": "execute_result"
    }
   ],
   "source": [
    "list1 = [1,2,3,4,5,6,5,7,2,2,2,3]\n",
    "type(list1)"
   ]
  },
  {
   "cell_type": "code",
   "execution_count": 2,
   "id": "12df2ba9-d50a-4def-97ea-942b0bf328dc",
   "metadata": {},
   "outputs": [
    {
     "data": {
      "text/plain": [
       "12"
      ]
     },
     "execution_count": 2,
     "metadata": {},
     "output_type": "execute_result"
    }
   ],
   "source": [
    "len(list1)"
   ]
  },
  {
   "cell_type": "code",
   "execution_count": 3,
   "id": "41ae392a-f3cb-455c-84b2-0c38fd489f86",
   "metadata": {},
   "outputs": [],
   "source": [
    "set1 = set(list1)"
   ]
  },
  {
   "cell_type": "code",
   "execution_count": 4,
   "id": "f9bb9d69-84e8-4790-b8e7-1699d8db1c3e",
   "metadata": {},
   "outputs": [
    {
     "data": {
      "text/plain": [
       "{1, 2, 3, 4, 5, 6, 7}"
      ]
     },
     "execution_count": 4,
     "metadata": {},
     "output_type": "execute_result"
    }
   ],
   "source": [
    "set1"
   ]
  },
  {
   "cell_type": "code",
   "execution_count": 5,
   "id": "78b0ed8b-66e0-49c7-a451-b0d156366ae4",
   "metadata": {},
   "outputs": [
    {
     "data": {
      "text/plain": [
       "7"
      ]
     },
     "execution_count": 5,
     "metadata": {},
     "output_type": "execute_result"
    }
   ],
   "source": [
    "len(set1)"
   ]
  },
  {
   "cell_type": "code",
   "execution_count": 6,
   "id": "ed7e07dd-0132-4d26-9c54-0bd304ee0cdd",
   "metadata": {},
   "outputs": [
    {
     "name": "stdout",
     "output_type": "stream",
     "text": [
      "{'b', 'd', 'e', 'c', 'a'}\n",
      "5\n",
      "<class 'set'>\n"
     ]
    }
   ],
   "source": [
    "list2 = ['a','b','c','a','b','c','a','b','c','d','e']\n",
    "set2 = set(list2)\n",
    "print(set2)\n",
    "print(len(set2))\n",
    "print(type(set2))"
   ]
  },
  {
   "cell_type": "code",
   "execution_count": 7,
   "id": "861f7697-084e-44f0-b973-f068fdffb9d3",
   "metadata": {},
   "outputs": [
    {
     "data": {
      "text/plain": [
       "{1, 2, 3, 4, 5}"
      ]
     },
     "execution_count": 7,
     "metadata": {},
     "output_type": "execute_result"
    }
   ],
   "source": [
    "list1=[1,2,3,4,5]\n",
    "set1 = set(list1)\n",
    "set1"
   ]
  },
  {
   "cell_type": "code",
   "execution_count": 8,
   "id": "53e41a44-9246-4d09-aa63-c26287915832",
   "metadata": {},
   "outputs": [
    {
     "data": {
      "text/plain": [
       "{1, 2, 3, 4, 5}"
      ]
     },
     "execution_count": 8,
     "metadata": {},
     "output_type": "execute_result"
    }
   ],
   "source": [
    "list1 = [1,2,3,4,5,5,5,5,5,5]\n",
    "set1=set(list1)\n",
    "set1"
   ]
  },
  {
   "cell_type": "code",
   "execution_count": 9,
   "id": "7bde99e4-637d-47a8-8cbe-3e94ec07b6ef",
   "metadata": {},
   "outputs": [
    {
     "data": {
      "text/plain": [
       "{1, 2, 3, 4, 6, 7, 8}"
      ]
     },
     "execution_count": 9,
     "metadata": {},
     "output_type": "execute_result"
    }
   ],
   "source": [
    "set3 = {1,2,3,4,4,7,6,8}\n",
    "set3"
   ]
  },
  {
   "cell_type": "code",
   "execution_count": 13,
   "id": "51a719ba-77fb-4937-a0b2-b206c3981896",
   "metadata": {},
   "outputs": [],
   "source": [
    "set4 = set({})"
   ]
  },
  {
   "cell_type": "code",
   "execution_count": 14,
   "id": "00c62f61-63cf-43dc-b132-efb29dbb5b73",
   "metadata": {},
   "outputs": [
    {
     "data": {
      "text/plain": [
       "set()"
      ]
     },
     "execution_count": 14,
     "metadata": {},
     "output_type": "execute_result"
    }
   ],
   "source": [
    "set4"
   ]
  },
  {
   "cell_type": "code",
   "execution_count": 15,
   "id": "2569751b-d95b-439e-b270-e4133c331176",
   "metadata": {},
   "outputs": [
    {
     "data": {
      "text/plain": [
       "set"
      ]
     },
     "execution_count": 15,
     "metadata": {},
     "output_type": "execute_result"
    }
   ],
   "source": [
    "type(set4)"
   ]
  },
  {
   "cell_type": "code",
   "execution_count": 16,
   "id": "31364cc6-202e-46d0-906a-288dbeb47230",
   "metadata": {},
   "outputs": [
    {
     "data": {
      "text/plain": [
       "{1, 2, 3, 4, 5, 'india'}"
      ]
     },
     "execution_count": 16,
     "metadata": {},
     "output_type": "execute_result"
    }
   ],
   "source": [
    "set2 = {1,2,3,4,5}\n",
    "set2.add(\"india\")\n",
    "set2"
   ]
  },
  {
   "cell_type": "code",
   "execution_count": 18,
   "id": "4ba285f8-fe1b-453a-8f60-011b94c7048e",
   "metadata": {},
   "outputs": [
    {
     "ename": "NameError",
     "evalue": "name 'india' is not defined",
     "output_type": "error",
     "traceback": [
      "\u001b[31m---------------------------------------------------------------------------\u001b[39m",
      "\u001b[31mNameError\u001b[39m                                 Traceback (most recent call last)",
      "\u001b[36mCell\u001b[39m\u001b[36m \u001b[39m\u001b[32mIn[18]\u001b[39m\u001b[32m, line 1\u001b[39m\n\u001b[32m----> \u001b[39m\u001b[32m1\u001b[39m set2.add(\u001b[43mindia\u001b[49m) \u001b[38;5;66;03m#because india is already included in the set so i cannot add it\u001b[39;00m\n\u001b[32m      2\u001b[39m set2\n",
      "\u001b[31mNameError\u001b[39m: name 'india' is not defined"
     ]
    }
   ],
   "source": [
    "set2.add(india) #because india is already included in the set so i cannot add it\n",
    "set2"
   ]
  },
  {
   "cell_type": "code",
   "execution_count": 19,
   "id": "4cbf9821-59f2-4a5b-b116-66976a7d6297",
   "metadata": {},
   "outputs": [
    {
     "data": {
      "text/plain": [
       "{1, 2, 3, 4, 5}"
      ]
     },
     "execution_count": 19,
     "metadata": {},
     "output_type": "execute_result"
    }
   ],
   "source": [
    "set2.remove('india')\n",
    "set2"
   ]
  },
  {
   "cell_type": "markdown",
   "id": "684d8bad-fbf3-4c77-8bd8-2b6b6864c66f",
   "metadata": {},
   "source": [
    "### set operations"
   ]
  },
  {
   "cell_type": "code",
   "execution_count": 20,
   "id": "1590acd7-0b64-4198-86de-36d6d5392e32",
   "metadata": {},
   "outputs": [],
   "source": [
    "A = {0,2,4,6,8}\n",
    "B = {1,2,3,4,5}"
   ]
  },
  {
   "cell_type": "code",
   "execution_count": 21,
   "id": "5678099f-0fef-4e4a-8c26-bd7c500be57d",
   "metadata": {},
   "outputs": [
    {
     "name": "stdout",
     "output_type": "stream",
     "text": [
      "{0, 1, 2, 3, 4, 5, 6, 8}\n",
      "{0, 1, 2, 3, 4, 5, 6, 8}\n",
      "8\n"
     ]
    }
   ],
   "source": [
    "#union \n",
    "print(A|B)\n",
    "print(A.union(B))\n",
    "print(len(A.union(B)))"
   ]
  },
  {
   "cell_type": "code",
   "execution_count": 22,
   "id": "3b1fad66-ec83-4901-8af8-4b1d32eb7e93",
   "metadata": {},
   "outputs": [
    {
     "name": "stdout",
     "output_type": "stream",
     "text": [
      "{2, 4}\n",
      "{2, 4}\n"
     ]
    }
   ],
   "source": [
    "#intersection\n",
    "print(A&B)\n",
    "print(A.intersection(B))"
   ]
  },
  {
   "cell_type": "code",
   "execution_count": 24,
   "id": "c32341b3-3766-4bcd-8fc8-28b2e803d201",
   "metadata": {},
   "outputs": [
    {
     "name": "stdout",
     "output_type": "stream",
     "text": [
      "{0, 8, 6}\n",
      "{0, 8, 6}\n"
     ]
    }
   ],
   "source": [
    "#difference\n",
    "#explanation of difference quickly if i have A-B then it will be\n",
    "# {0,2,4,6,8} - {1,2,3,4,5}\n",
    "# so we ignore the second set and we see what is common between the 2 sets in this case 2 & 4\n",
    "#and then the rest of the values from the first set remain as they are {0,6,8}\n",
    "#after removing the intersected values from set(A)\n",
    "# if we made B-A then the answer will be {1,3,5}\n",
    "print(A-B)\n",
    "print(A.difference(B))"
   ]
  },
  {
   "cell_type": "code",
   "execution_count": 26,
   "id": "6c70d7ef-bfa7-4852-836a-55d13effb763",
   "metadata": {},
   "outputs": [
    {
     "name": "stdout",
     "output_type": "stream",
     "text": [
      "{0, 1, 3, 5, 6, 8}\n"
     ]
    }
   ],
   "source": [
    "#symmetric difference \n",
    "#this one combines the 2 sets and remove the intersected elements\n",
    "print(A^B)"
   ]
  },
  {
   "cell_type": "markdown",
   "id": "99e86f85-42f9-421c-a00a-1d5b22e11d33",
   "metadata": {},
   "source": [
    "### practice codes"
   ]
  },
  {
   "cell_type": "code",
   "execution_count": 27,
   "id": "467b6590-4683-412d-a6a9-c87523cbd8d2",
   "metadata": {},
   "outputs": [],
   "source": [
    "A = [5,1,3,4,4,5,6,7]\n",
    "B = [3,3,5,5,1,7,2]\n",
    "\n",
    "setA = set(A)\n",
    "setB = set(B)"
   ]
  },
  {
   "cell_type": "code",
   "execution_count": 28,
   "id": "604f6968-e566-453c-b4c8-7dedf571572c",
   "metadata": {},
   "outputs": [
    {
     "data": {
      "text/plain": [
       "{1, 3, 5, 7}"
      ]
     },
     "execution_count": 28,
     "metadata": {},
     "output_type": "execute_result"
    }
   ],
   "source": [
    "setA.intersection(setB)"
   ]
  },
  {
   "cell_type": "code",
   "execution_count": 30,
   "id": "c35582de-3efc-4fde-b075-b92473c13d17",
   "metadata": {},
   "outputs": [
    {
     "name": "stdout",
     "output_type": "stream",
     "text": [
      "[1, 3, 5, 7]\n"
     ]
    }
   ],
   "source": [
    "answer = list(setA.intersection(setB))\n",
    "print(sorted(answer))"
   ]
  },
  {
   "cell_type": "code",
   "execution_count": 31,
   "id": "8cc0a8d9-3435-40a3-ac4a-f8767190787e",
   "metadata": {},
   "outputs": [
    {
     "data": {
      "text/plain": [
       "{0, 3, 4, 5, 6, 10, 11}"
      ]
     },
     "execution_count": 31,
     "metadata": {},
     "output_type": "execute_result"
    }
   ],
   "source": [
    "a = {1,2,3,4,5,6}\n",
    "b = {0,1,2,10,11}\n",
    "\n",
    "(a.union(b)).difference(a.intersection(b))"
   ]
  },
  {
   "cell_type": "code",
   "execution_count": null,
   "id": "e07751e5-d889-4977-bd89-542b9fa72f65",
   "metadata": {},
   "outputs": [],
   "source": []
  }
 ],
 "metadata": {
  "kernelspec": {
   "display_name": "Python 3 (ipykernel)",
   "language": "python",
   "name": "python3"
  },
  "language_info": {
   "codemirror_mode": {
    "name": "ipython",
    "version": 3
   },
   "file_extension": ".py",
   "mimetype": "text/x-python",
   "name": "python",
   "nbconvert_exporter": "python",
   "pygments_lexer": "ipython3",
   "version": "3.13.2"
  }
 },
 "nbformat": 4,
 "nbformat_minor": 5
}
