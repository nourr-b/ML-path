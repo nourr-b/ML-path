{
 "cells": [
  {
   "cell_type": "markdown",
   "id": "71aaae70-d166-4012-b6c1-8205ab50f606",
   "metadata": {},
   "source": [
    "# File Handling"
   ]
  },
  {
   "cell_type": "markdown",
   "id": "a9b296a6-3feb-49ed-8360-9386a73c31be",
   "metadata": {},
   "source": [
    "#### Reading a file"
   ]
  },
  {
   "cell_type": "code",
   "execution_count": 4,
   "id": "9c143840-e901-4320-82e8-96ce917dcb19",
   "metadata": {},
   "outputs": [
    {
     "ename": "TypeError",
     "evalue": "'_io.TextIOWrapper' object is not subscriptable",
     "output_type": "error",
     "traceback": [
      "\u001b[31m---------------------------------------------------------------------------\u001b[39m",
      "\u001b[31mTypeError\u001b[39m                                 Traceback (most recent call last)",
      "\u001b[36mCell\u001b[39m\u001b[36m \u001b[39m\u001b[32mIn[4]\u001b[39m\u001b[32m, line 2\u001b[39m\n\u001b[32m      1\u001b[39m file = \u001b[38;5;28mopen\u001b[39m(\u001b[33m'\u001b[39m\u001b[33mtest.txt\u001b[39m\u001b[33m'\u001b[39m,\u001b[33m'\u001b[39m\u001b[33mr\u001b[39m\u001b[33m'\u001b[39m) \u001b[38;5;66;03m# r means read it\u001b[39;00m\n\u001b[32m----> \u001b[39m\u001b[32m2\u001b[39m \u001b[43mfile\u001b[49m\u001b[43m[\u001b[49m\u001b[32;43m0\u001b[39;49m\u001b[43m]\u001b[49m\n\u001b[32m      3\u001b[39m \u001b[38;5;66;03m# for line in file:\u001b[39;00m\n\u001b[32m      4\u001b[39m \u001b[38;5;66;03m#     print(line)\u001b[39;00m\n",
      "\u001b[31mTypeError\u001b[39m: '_io.TextIOWrapper' object is not subscriptable"
     ]
    }
   ],
   "source": [
    "file = open('test.txt','r') # r means read it\n",
    "file[0]\n",
    "# for line in file:\n",
    "#     print(line)"
   ]
  },
  {
   "cell_type": "code",
   "execution_count": 5,
   "id": "8d28e531-49ad-4869-9969-28554813f94e",
   "metadata": {},
   "outputs": [
    {
     "name": "stdout",
     "output_type": "stream",
     "text": [
      "Hello World\n",
      "\n",
      "My name is Nour Bassem \n",
      "\n",
      "Welcome to my python course !!!!\n"
     ]
    }
   ],
   "source": [
    "for line in file:\n",
    "    print(line)"
   ]
  },
  {
   "cell_type": "code",
   "execution_count": 6,
   "id": "3e78d037-5c0a-4189-b2e4-8b9fcc7b0e60",
   "metadata": {},
   "outputs": [
    {
     "name": "stdout",
     "output_type": "stream",
     "text": [
      "Hello World\n",
      "My name is Nour Bassem \n",
      "Welcome to my python course !!!!\n"
     ]
    }
   ],
   "source": [
    "file = open('test.txt','r') # r means read it\n",
    "print(file.read())"
   ]
  },
  {
   "cell_type": "code",
   "execution_count": 9,
   "id": "911fbb58-a5f8-40ca-b58d-1d125cfaab15",
   "metadata": {},
   "outputs": [
    {
     "name": "stdout",
     "output_type": "stream",
     "text": [
      "Hello\n"
     ]
    }
   ],
   "source": [
    "file = open('test.txt','r') # r means read it\n",
    "print(file.read(5)) # it will return 5 characters"
   ]
  },
  {
   "cell_type": "code",
   "execution_count": 15,
   "id": "d3eb933b-5a3c-4a86-a232-a4700fb093dc",
   "metadata": {},
   "outputs": [
    {
     "name": "stdout",
     "output_type": "stream",
     "text": [
      "Hello World\n",
      "My name is Nour Bassem \n",
      "Welcome to my \n"
     ]
    }
   ],
   "source": [
    "file = open('test.txt','r') # r means read it\n",
    "print(file.read(50)) # it will return 5 characters"
   ]
  },
  {
   "cell_type": "code",
   "execution_count": 12,
   "id": "5370266b-a506-4bee-8571-7d3a09ed2190",
   "metadata": {},
   "outputs": [
    {
     "name": "stdout",
     "output_type": "stream",
     "text": [
      "Hello World\n",
      "\n"
     ]
    }
   ],
   "source": [
    "file = open('test.txt','r') # r means read it\n",
    "print(file.readline()) "
   ]
  },
  {
   "cell_type": "code",
   "execution_count": 13,
   "id": "3994faf8-ad9b-4d1f-821c-5b695003090e",
   "metadata": {},
   "outputs": [
    {
     "name": "stdout",
     "output_type": "stream",
     "text": [
      "He\n"
     ]
    }
   ],
   "source": [
    "file = open('test.txt','r') # r means read it\n",
    "print(file.readline(2)) # any number returns the number of characters "
   ]
  },
  {
   "cell_type": "code",
   "execution_count": 14,
   "id": "5fac01fe-a530-4fd2-ae34-623feabefc88",
   "metadata": {},
   "outputs": [
    {
     "name": "stdout",
     "output_type": "stream",
     "text": [
      "Hello World\n",
      "\n"
     ]
    }
   ],
   "source": [
    "file = open('test.txt','r') # r means read it\n",
    "print(file.readline(50)) # any number returns the number of characters "
   ]
  },
  {
   "cell_type": "markdown",
   "id": "ff510409-9bb7-4a1a-8e7c-145c514995c5",
   "metadata": {},
   "source": [
    "#### Writing a file"
   ]
  },
  {
   "cell_type": "code",
   "execution_count": 18,
   "id": "e5f40efe-bd7e-4af8-bc27-c675689211f4",
   "metadata": {},
   "outputs": [
    {
     "data": {
      "text/plain": [
       "33"
      ]
     },
     "execution_count": 18,
     "metadata": {},
     "output_type": "execute_result"
    }
   ],
   "source": [
    "file = open('test.txt','w') # w means write in it\n",
    "file.write('this is a write operation')\n",
    "file.write('Welcome to the course and joining')\n"
   ]
  },
  {
   "cell_type": "code",
   "execution_count": 17,
   "id": "2cb5bfa7-516a-4f72-a21d-292a79851d5d",
   "metadata": {},
   "outputs": [
    {
     "ename": "UnsupportedOperation",
     "evalue": "not readable",
     "output_type": "error",
     "traceback": [
      "\u001b[31m---------------------------------------------------------------------------\u001b[39m",
      "\u001b[31mUnsupportedOperation\u001b[39m                      Traceback (most recent call last)",
      "\u001b[36mCell\u001b[39m\u001b[36m \u001b[39m\u001b[32mIn[17]\u001b[39m\u001b[32m, line 1\u001b[39m\n\u001b[32m----> \u001b[39m\u001b[32m1\u001b[39m \u001b[38;5;28mprint\u001b[39m(\u001b[43mfile\u001b[49m\u001b[43m.\u001b[49m\u001b[43mread\u001b[49m\u001b[43m(\u001b[49m\u001b[43m)\u001b[49m)\n",
      "\u001b[31mUnsupportedOperation\u001b[39m: not readable"
     ]
    }
   ],
   "source": [
    "print(file.read())"
   ]
  },
  {
   "cell_type": "code",
   "execution_count": 19,
   "id": "698d1e78-5c03-486e-bfb9-fc136c780781",
   "metadata": {},
   "outputs": [
    {
     "ename": "ValueError",
     "evalue": "must have exactly one of create/read/write/append mode",
     "output_type": "error",
     "traceback": [
      "\u001b[31m---------------------------------------------------------------------------\u001b[39m",
      "\u001b[31mValueError\u001b[39m                                Traceback (most recent call last)",
      "\u001b[36mCell\u001b[39m\u001b[36m \u001b[39m\u001b[32mIn[19]\u001b[39m\u001b[32m, line 1\u001b[39m\n\u001b[32m----> \u001b[39m\u001b[32m1\u001b[39m file = \u001b[38;5;28;43mopen\u001b[39;49m\u001b[43m(\u001b[49m\u001b[33;43m'\u001b[39;49m\u001b[33;43mtest.txt\u001b[39;49m\u001b[33;43m'\u001b[39;49m\u001b[43m,\u001b[49m\u001b[33;43m'\u001b[39;49m\u001b[33;43mrw\u001b[39;49m\u001b[33;43m'\u001b[39;49m\u001b[43m)\u001b[49m\n\u001b[32m      2\u001b[39m \u001b[38;5;28mprint\u001b[39m(file.read())\n",
      "\u001b[36mFile \u001b[39m\u001b[32m~\\AppData\\Roaming\\Python\\Python313\\site-packages\\IPython\\core\\interactiveshell.py:325\u001b[39m, in \u001b[36m_modified_open\u001b[39m\u001b[34m(file, *args, **kwargs)\u001b[39m\n\u001b[32m    318\u001b[39m \u001b[38;5;28;01mif\u001b[39;00m file \u001b[38;5;129;01min\u001b[39;00m {\u001b[32m0\u001b[39m, \u001b[32m1\u001b[39m, \u001b[32m2\u001b[39m}:\n\u001b[32m    319\u001b[39m     \u001b[38;5;28;01mraise\u001b[39;00m \u001b[38;5;167;01mValueError\u001b[39;00m(\n\u001b[32m    320\u001b[39m         \u001b[33mf\u001b[39m\u001b[33m\"\u001b[39m\u001b[33mIPython won\u001b[39m\u001b[33m'\u001b[39m\u001b[33mt let you open fd=\u001b[39m\u001b[38;5;132;01m{\u001b[39;00mfile\u001b[38;5;132;01m}\u001b[39;00m\u001b[33m by default \u001b[39m\u001b[33m\"\u001b[39m\n\u001b[32m    321\u001b[39m         \u001b[33m\"\u001b[39m\u001b[33mas it is likely to crash IPython. If you know what you are doing, \u001b[39m\u001b[33m\"\u001b[39m\n\u001b[32m    322\u001b[39m         \u001b[33m\"\u001b[39m\u001b[33myou can use builtins\u001b[39m\u001b[33m'\u001b[39m\u001b[33m open.\u001b[39m\u001b[33m\"\u001b[39m\n\u001b[32m    323\u001b[39m     )\n\u001b[32m--> \u001b[39m\u001b[32m325\u001b[39m \u001b[38;5;28;01mreturn\u001b[39;00m \u001b[43mio_open\u001b[49m\u001b[43m(\u001b[49m\u001b[43mfile\u001b[49m\u001b[43m,\u001b[49m\u001b[43m \u001b[49m\u001b[43m*\u001b[49m\u001b[43margs\u001b[49m\u001b[43m,\u001b[49m\u001b[43m \u001b[49m\u001b[43m*\u001b[49m\u001b[43m*\u001b[49m\u001b[43mkwargs\u001b[49m\u001b[43m)\u001b[49m\n",
      "\u001b[31mValueError\u001b[39m: must have exactly one of create/read/write/append mode"
     ]
    }
   ],
   "source": [
    "file = open('test.txt','rw')\n",
    "print(file.read())"
   ]
  },
  {
   "cell_type": "code",
   "execution_count": 20,
   "id": "091fef61-62d7-43e2-8adf-1e407ae23540",
   "metadata": {},
   "outputs": [
    {
     "name": "stdout",
     "output_type": "stream",
     "text": [
      "this is a write operationWelcome to the course and joining\n"
     ]
    }
   ],
   "source": [
    "file = open('test.txt','r')\n",
    "print(file.read())"
   ]
  },
  {
   "cell_type": "code",
   "execution_count": 21,
   "id": "7f9926d3-f541-4257-b43b-03a4fdd1badc",
   "metadata": {},
   "outputs": [],
   "source": [
    "file = open('test.txt','w') # w means write in it\n",
    "file.write('this is a write operation')\n",
    "file.write('Welcome to the course and joining')\n",
    "file.close()"
   ]
  },
  {
   "cell_type": "code",
   "execution_count": 22,
   "id": "6b318de4-5bbd-40cc-bbac-a4c4ff5aec0a",
   "metadata": {},
   "outputs": [
    {
     "name": "stdout",
     "output_type": "stream",
     "text": [
      "this is a write operationWelcome to the course and joining\n"
     ]
    }
   ],
   "source": [
    "file = open('test.txt','r')\n",
    "print(file.read())"
   ]
  },
  {
   "cell_type": "code",
   "execution_count": 23,
   "id": "a6361bca-699e-46fe-b520-1c399329e24e",
   "metadata": {},
   "outputs": [],
   "source": [
    "file = open('test.txt','w') # w means write in it\n",
    "file.write('this is a write operation\\n')\n",
    "file.write('Welcome to the course and joining')\n",
    "file.close()"
   ]
  },
  {
   "cell_type": "code",
   "execution_count": 24,
   "id": "91266ef0-0539-4a6b-8225-e67c4881b2cf",
   "metadata": {},
   "outputs": [
    {
     "name": "stdout",
     "output_type": "stream",
     "text": [
      "this is a write operation\n",
      "Welcome to the course and joining\n"
     ]
    }
   ],
   "source": [
    "file = open('test.txt','r')\n",
    "print(file.read())"
   ]
  },
  {
   "cell_type": "markdown",
   "id": "aa5e7627-0c1b-4066-a0e1-8606e279cf7e",
   "metadata": {},
   "source": [
    "#### Append operation"
   ]
  },
  {
   "cell_type": "code",
   "execution_count": 25,
   "id": "cab903f2-c326-48fe-80b0-b019f2982386",
   "metadata": {},
   "outputs": [],
   "source": [
    "with open('test.txt','a') as file: # a means append on the existing things in the file\n",
    "    file.write('\\nthis is a write operation\\n')\n",
    "    file.write('Welcome to the course and joining')"
   ]
  },
  {
   "cell_type": "code",
   "execution_count": 26,
   "id": "16d00056-7b2b-4ebc-bcd6-1075e0513863",
   "metadata": {},
   "outputs": [
    {
     "name": "stdout",
     "output_type": "stream",
     "text": [
      "this is a write operation\n",
      "Welcome to the course and joining\n",
      "this is a write operation\n",
      "Welcome to the course and joining\n"
     ]
    }
   ],
   "source": [
    "file = open('test.txt','r')\n",
    "print(file.read())"
   ]
  },
  {
   "cell_type": "code",
   "execution_count": 27,
   "id": "4c3534b3-51a3-4d9c-87ae-330f4e9d4830",
   "metadata": {},
   "outputs": [],
   "source": [
    "with open('test.txt','a+') as file: # a means append on the existing things in the file\n",
    "    file.write('\\nthis is a write operation\\n')\n",
    "    file.write('Welcome to the course and joining')"
   ]
  },
  {
   "cell_type": "code",
   "execution_count": 28,
   "id": "ecffc958-cf84-4b8e-a894-d1a577c51c1a",
   "metadata": {},
   "outputs": [
    {
     "name": "stdout",
     "output_type": "stream",
     "text": [
      "this is a write operation\n",
      "Welcome to the course and joining\n",
      "this is a write operation\n",
      "Welcome to the course and joining\n",
      "this is a write operation\n",
      "Welcome to the course and joining\n"
     ]
    }
   ],
   "source": [
    "file = open('test.txt','r')\n",
    "print(file.read())"
   ]
  },
  {
   "cell_type": "code",
   "execution_count": null,
   "id": "b331acbf-407c-4017-afda-f9f08d872813",
   "metadata": {},
   "outputs": [],
   "source": []
  }
 ],
 "metadata": {
  "kernelspec": {
   "display_name": "Python 3 (ipykernel)",
   "language": "python",
   "name": "python3"
  },
  "language_info": {
   "codemirror_mode": {
    "name": "ipython",
    "version": 3
   },
   "file_extension": ".py",
   "mimetype": "text/x-python",
   "name": "python",
   "nbconvert_exporter": "python",
   "pygments_lexer": "ipython3",
   "version": "3.13.2"
  }
 },
 "nbformat": 4,
 "nbformat_minor": 5
}
