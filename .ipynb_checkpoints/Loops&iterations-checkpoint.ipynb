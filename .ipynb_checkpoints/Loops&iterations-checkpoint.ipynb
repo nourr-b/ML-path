{
 "cells": [
  {
   "cell_type": "markdown",
   "id": "062cfb9c-ca35-4fe7-842f-63aa3bc16eb6",
   "metadata": {},
   "source": [
    "# Loops & Iteration"
   ]
  },
  {
   "cell_type": "markdown",
   "id": "9768d342-56fb-421c-b488-babb206b091b",
   "metadata": {},
   "source": [
    "### check wether a number is even or odd"
   ]
  },
  {
   "cell_type": "code",
   "execution_count": 5,
   "id": "5e9f4a23-0851-4590-b241-374f0ee840c0",
   "metadata": {},
   "outputs": [
    {
     "name": "stdin",
     "output_type": "stream",
     "text": [
      "enter a number to check wether it is even or odd 13\n"
     ]
    },
    {
     "name": "stdout",
     "output_type": "stream",
     "text": [
      "13 is odd number\n"
     ]
    }
   ],
   "source": [
    "x = int(input(\"enter a number to check wether it is even or odd\"))\n",
    "\n",
    "if(x%2==0):\n",
    "    print(x,\"is even number\")\n",
    "else:\n",
    "     print(x,\"is odd number\")"
   ]
  },
  {
   "cell_type": "markdown",
   "id": "3c2428f9-551b-4d6e-b45c-dd706b2019b6",
   "metadata": {},
   "source": [
    "#### Iterations"
   ]
  },
  {
   "cell_type": "markdown",
   "id": "47189ff3-e50d-484e-9f86-196da7967220",
   "metadata": {},
   "source": [
    "iterate over a list of integers"
   ]
  },
  {
   "cell_type": "code",
   "execution_count": 6,
   "id": "ebb3077c-5b7c-4bb1-98a9-dbf2d8aa860e",
   "metadata": {},
   "outputs": [
    {
     "name": "stdout",
     "output_type": "stream",
     "text": [
      "10\n",
      "20\n",
      "30\n",
      "40\n",
      "50\n"
     ]
    }
   ],
   "source": [
    "list1 = [10,20,30,40,50]\n",
    "\n",
    "for i in list1:\n",
    "    print(i)"
   ]
  },
  {
   "cell_type": "markdown",
   "id": "fc65a9c2-0f3c-4dd2-837e-5661419ecc49",
   "metadata": {},
   "source": [
    "iterate over a list of strings"
   ]
  },
  {
   "cell_type": "code",
   "execution_count": 7,
   "id": "556dba43-516b-42ff-8d03-6d835730c97b",
   "metadata": {},
   "outputs": [
    {
     "name": "stdout",
     "output_type": "stream",
     "text": [
      "h\n",
      "e\n",
      "l\n",
      "l\n",
      "o\n"
     ]
    }
   ],
   "source": [
    "str1 = \"hello\"\n",
    "for i in str1:\n",
    "    print(i)"
   ]
  },
  {
   "cell_type": "markdown",
   "id": "3af3be8e-0968-47f5-bd05-32efab7c2067",
   "metadata": {},
   "source": [
    "iterate over a dictionary"
   ]
  },
  {
   "cell_type": "code",
   "execution_count": 13,
   "id": "2c929527-3bc6-43e1-a758-48cd56ba6bc1",
   "metadata": {},
   "outputs": [
    {
     "name": "stdout",
     "output_type": "stream",
     "text": [
      "['sam', 25]\n",
      "['sam', 25]\n",
      "['sam', 25]\n",
      "['sam', 25]\n",
      "['sam', 25]\n"
     ]
    }
   ],
   "source": [
    "studentData={1:[\"sam\",25],2:[\"sam\",25],3:[\"sam\",25],4:[\"sam\",25],5:[\"sam\",25]}\n",
    "for i in studentData.values():\n",
    "    print(i)"
   ]
  },
  {
   "cell_type": "code",
   "execution_count": 14,
   "id": "ec22316b-60c1-45a5-9bfb-89b21397d172",
   "metadata": {},
   "outputs": [
    {
     "name": "stdout",
     "output_type": "stream",
     "text": [
      "(1, ['sam', 25])\n",
      "(2, ['sam', 25])\n",
      "(3, ['sam', 25])\n",
      "(4, ['sam', 25])\n",
      "(5, ['sam', 25])\n"
     ]
    }
   ],
   "source": [
    "studentData={1:[\"sam\",25],2:[\"sam\",25],3:[\"sam\",25],4:[\"sam\",25],5:[\"sam\",25]}\n",
    "for i in studentData.items():\n",
    "    print(i)"
   ]
  },
  {
   "cell_type": "code",
   "execution_count": 18,
   "id": "535cfee2-0576-49de-a911-5c7bb019b11c",
   "metadata": {},
   "outputs": [
    {
     "name": "stdout",
     "output_type": "stream",
     "text": [
      "['sam', 25]\n",
      "['sam', 25]\n",
      "['sam', 25]\n",
      "['sam', 25]\n",
      "['sam', 25]\n"
     ]
    }
   ],
   "source": [
    "studentData={1:[\"sam\",25],2:[\"sam\",25],3:[\"sam\",25],4:[\"sam\",25],5:[\"sam\",25]}\n",
    "for i,j in studentData.items():\n",
    "    print(j)"
   ]
  },
  {
   "cell_type": "code",
   "execution_count": 15,
   "id": "5695db1a-8ef0-4afe-998e-ab2ea5301841",
   "metadata": {},
   "outputs": [
    {
     "name": "stdout",
     "output_type": "stream",
     "text": [
      "1\n",
      "2\n",
      "3\n",
      "4\n",
      "5\n"
     ]
    }
   ],
   "source": [
    "studentData={1:[\"sam\",25],2:[\"sam\",25],3:[\"sam\",25],4:[\"sam\",25],5:[\"sam\",25]}\n",
    "for i in studentData:\n",
    "    print(i)"
   ]
  },
  {
   "cell_type": "code",
   "execution_count": 20,
   "id": "1a0c878a-d86e-4622-905b-e23b1a817273",
   "metadata": {},
   "outputs": [
    {
     "name": "stdout",
     "output_type": "stream",
     "text": [
      "1\n",
      "2\n",
      "3\n",
      "4\n"
     ]
    }
   ],
   "source": [
    "for i in range(1,5): #1 is inclusive but 5 is exclusive\n",
    "    print(i)"
   ]
  },
  {
   "cell_type": "markdown",
   "id": "ba1298eb-d5d5-4e41-b85e-e45af9749b3e",
   "metadata": {},
   "source": [
    "## comprehensions"
   ]
  },
  {
   "cell_type": "code",
   "execution_count": 21,
   "id": "45bce239-c752-48ee-b7ab-de3940e4ffdf",
   "metadata": {},
   "outputs": [
    {
     "name": "stdout",
     "output_type": "stream",
     "text": [
      "['automobiles', 'honda', 'benz', 'maruti', 'kia']\n"
     ]
    }
   ],
   "source": [
    "list1 = [\"automobiles\",\"honda\",\"benz\",\"maruti\",\"kia\"]\n",
    "list2 = []\n",
    "\n",
    "for i in list1:\n",
    "    list2.append(i)\n",
    "print(list2)"
   ]
  },
  {
   "cell_type": "code",
   "execution_count": 22,
   "id": "03f4df15-e3d7-4886-a935-8b31b6e45de2",
   "metadata": {},
   "outputs": [
    {
     "name": "stdout",
     "output_type": "stream",
     "text": [
      "[11, 5, 4, 6, 3]\n"
     ]
    }
   ],
   "source": [
    "list1 = [\"automobiles\",\"honda\",\"benz\",\"maruti\",\"kia\"]\n",
    "list2 = []\n",
    "\n",
    "for i in list1:\n",
    "    list2.append(len(i))\n",
    "print(list2)"
   ]
  },
  {
   "cell_type": "code",
   "execution_count": 23,
   "id": "3e6e118b-a756-4db4-aeff-5f1015703417",
   "metadata": {},
   "outputs": [
    {
     "name": "stdout",
     "output_type": "stream",
     "text": [
      "[11, 5, 4, 6, 3]\n"
     ]
    }
   ],
   "source": [
    "list1 = [\"automobiles\",\"honda\",\"benz\",\"maruti\",\"kia\"]\n",
    "list2 = [len(i) for i in list1]\n",
    "print(list2)"
   ]
  },
  {
   "cell_type": "code",
   "execution_count": 26,
   "id": "d2e18f37-1522-4410-8cda-5d39f939f2d0",
   "metadata": {},
   "outputs": [
    {
     "name": "stdout",
     "output_type": "stream",
     "text": [
      "{'automobiles': 11, 'honda': 5, 'benz': 4, 'maruti': 6, 'kia': 3}\n"
     ]
    }
   ],
   "source": [
    "list1 = [\"automobiles\",\"honda\",\"benz\",\"maruti\",\"kia\"]\n",
    "dictionary = {i :len(i) for i in list1}\n",
    "print(dictionary)"
   ]
  },
  {
   "cell_type": "code",
   "execution_count": null,
   "id": "bf459fa6-a6aa-46c3-8309-053db4eaab8e",
   "metadata": {},
   "outputs": [],
   "source": []
  }
 ],
 "metadata": {
  "kernelspec": {
   "display_name": "Python 3 (ipykernel)",
   "language": "python",
   "name": "python3"
  },
  "language_info": {
   "codemirror_mode": {
    "name": "ipython",
    "version": 3
   },
   "file_extension": ".py",
   "mimetype": "text/x-python",
   "name": "python",
   "nbconvert_exporter": "python",
   "pygments_lexer": "ipython3",
   "version": "3.13.2"
  }
 },
 "nbformat": 4,
 "nbformat_minor": 5
}
