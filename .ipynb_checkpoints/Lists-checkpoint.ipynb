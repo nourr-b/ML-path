{
 "cells": [
  {
   "cell_type": "markdown",
   "id": "4fa1b6c3-5a80-4ea5-9e7c-87376f38ef44",
   "metadata": {},
   "source": [
    "# Lists:\n",
    "  - Lists are ordered sequence of mixed data types\n",
    "  - Lists are written in comma seperated elements within square brackets"
   ]
  },
  {
   "cell_type": "code",
   "execution_count": 1,
   "id": "2ae24a58-42e8-4465-8528-2fe56cc535bd",
   "metadata": {},
   "outputs": [
    {
     "data": {
      "text/plain": [
       "['india', 5, 'nour']"
      ]
     },
     "execution_count": 1,
     "metadata": {},
     "output_type": "execute_result"
    }
   ],
   "source": [
    "list1 = [\"india\",5,\"nour\"]\n",
    "list1"
   ]
  },
  {
   "cell_type": "code",
   "execution_count": 2,
   "id": "6bc0ed4d-9baf-4b07-9b3d-f89b36f8e70d",
   "metadata": {},
   "outputs": [
    {
     "name": "stdout",
     "output_type": "stream",
     "text": [
      "3\n"
     ]
    }
   ],
   "source": [
    "print(len(list1))"
   ]
  },
  {
   "cell_type": "code",
   "execution_count": 3,
   "id": "b3a907e5-9108-47d7-8243-c6846540426f",
   "metadata": {},
   "outputs": [
    {
     "name": "stdout",
     "output_type": "stream",
     "text": [
      "<class 'list'>\n"
     ]
    }
   ],
   "source": [
    "print(type(list1))"
   ]
  },
  {
   "cell_type": "code",
   "execution_count": 5,
   "id": "9936bf55-f55a-4960-925c-b45bbc707e88",
   "metadata": {},
   "outputs": [],
   "source": [
    "custInfo = [\"nour\",23,\"alex\",1000,5000,\"xyz\"]"
   ]
  },
  {
   "cell_type": "code",
   "execution_count": 6,
   "id": "1bef6095-7c18-4b6a-a85e-5bf0b3a57a2e",
   "metadata": {},
   "outputs": [
    {
     "data": {
      "text/plain": [
       "list"
      ]
     },
     "execution_count": 6,
     "metadata": {},
     "output_type": "execute_result"
    }
   ],
   "source": [
    "type(custInfo)"
   ]
  },
  {
   "cell_type": "code",
   "execution_count": 7,
   "id": "d1e766c5-b35e-401a-ad02-d2aefe789031",
   "metadata": {},
   "outputs": [
    {
     "data": {
      "text/plain": [
       "tuple"
      ]
     },
     "execution_count": 7,
     "metadata": {},
     "output_type": "execute_result"
    }
   ],
   "source": [
    "custInfo_new = (\"nour\",23,\"alex\",1000,5000,\"xyz\")\n",
    "type(custInfo_new)"
   ]
  },
  {
   "cell_type": "code",
   "execution_count": 11,
   "id": "4079ddfb-c00b-4a36-9dcf-6a7373b69a74",
   "metadata": {},
   "outputs": [
    {
     "data": {
      "text/plain": [
       "['nour', 23, 'alex', 1000, 5000, 'xyz']"
      ]
     },
     "execution_count": 11,
     "metadata": {},
     "output_type": "execute_result"
    }
   ],
   "source": [
    "custInfo"
   ]
  },
  {
   "cell_type": "code",
   "execution_count": 12,
   "id": "391607f9-f555-4e28-a4f2-20884a2b9c39",
   "metadata": {},
   "outputs": [
    {
     "data": {
      "text/plain": [
       "('nour', 23, 'alex', 1000, 5000, 'xyz')"
      ]
     },
     "execution_count": 12,
     "metadata": {},
     "output_type": "execute_result"
    }
   ],
   "source": [
    "custInfo_new"
   ]
  },
  {
   "cell_type": "code",
   "execution_count": 14,
   "id": "d989cab8-9c12-413d-b923-e684bce986be",
   "metadata": {},
   "outputs": [
    {
     "data": {
      "text/plain": [
       "5"
      ]
     },
     "execution_count": 14,
     "metadata": {},
     "output_type": "execute_result"
    }
   ],
   "source": [
    "list2 = [\"nour\",\"egy\",5,10,[\"nourn\",7,8,\"custom\"]]\n",
    "len(list2)"
   ]
  },
  {
   "cell_type": "code",
   "execution_count": 15,
   "id": "f7ee364a-3be9-4383-a2f0-dca3e777654c",
   "metadata": {},
   "outputs": [
    {
     "data": {
      "text/plain": [
       "['nour', 'egy', 5, 10, ['nourn', 7, 8, 'custom']]"
      ]
     },
     "execution_count": 15,
     "metadata": {},
     "output_type": "execute_result"
    }
   ],
   "source": [
    "list2"
   ]
  },
  {
   "cell_type": "code",
   "execution_count": 16,
   "id": "7ba71e3d-023d-4cfb-959e-c596f0827d45",
   "metadata": {},
   "outputs": [
    {
     "data": {
      "text/plain": [
       "7"
      ]
     },
     "execution_count": 16,
     "metadata": {},
     "output_type": "execute_result"
    }
   ],
   "source": [
    "list2[-1][1] #Indexing"
   ]
  },
  {
   "cell_type": "code",
   "execution_count": 17,
   "id": "a91e8711-6591-4f94-aee4-f9b978a02004",
   "metadata": {},
   "outputs": [
    {
     "data": {
      "text/plain": [
       "7"
      ]
     },
     "execution_count": 17,
     "metadata": {},
     "output_type": "execute_result"
    }
   ],
   "source": [
    "list2[4][1] #Indexing"
   ]
  },
  {
   "cell_type": "code",
   "execution_count": 18,
   "id": "67a4f064-56ff-4809-9cca-e4886970d66f",
   "metadata": {},
   "outputs": [
    {
     "data": {
      "text/plain": [
       "'nour'"
      ]
     },
     "execution_count": 18,
     "metadata": {},
     "output_type": "execute_result"
    }
   ],
   "source": [
    "list2[0] #Indexing"
   ]
  },
  {
   "cell_type": "code",
   "execution_count": 19,
   "id": "d10f6ab9-b618-4289-9c95-5a76e2bc31e6",
   "metadata": {},
   "outputs": [
    {
     "data": {
      "text/plain": [
       "['nourn', 7, 8, 'custom']"
      ]
     },
     "execution_count": 19,
     "metadata": {},
     "output_type": "execute_result"
    }
   ],
   "source": [
    "#slicing\n",
    "list2[-1]\n"
   ]
  },
  {
   "cell_type": "code",
   "execution_count": 21,
   "id": "0e9fc194-171a-41ee-80fb-f565f0aa605b",
   "metadata": {},
   "outputs": [
    {
     "name": "stdout",
     "output_type": "stream",
     "text": [
      "8\n",
      "[1, 2, 3, 4, 5, 6, 7, 8]\n"
     ]
    }
   ],
   "source": [
    "#list concat\n",
    "list1 = [1,2,3,4]\n",
    "list2 = [5,6,7,8]\n",
    "\n",
    "new_list = list1+list2\n",
    "\n",
    "print(len(new_list))\n",
    "print(new_list)"
   ]
  },
  {
   "cell_type": "code",
   "execution_count": 22,
   "id": "7522766a-14e6-4751-998b-c3457267f863",
   "metadata": {},
   "outputs": [
    {
     "name": "stdout",
     "output_type": "stream",
     "text": [
      "True\n",
      "False\n"
     ]
    }
   ],
   "source": [
    "#membership in lists & tuples\n",
    "tuple3 = (1,2,3,4)\n",
    "print(1 in tuple3)\n",
    "print(5 in tuple3)"
   ]
  },
  {
   "cell_type": "code",
   "execution_count": 23,
   "id": "4f7be283-0baa-48cd-a9c2-474141ff6814",
   "metadata": {},
   "outputs": [
    {
     "name": "stdout",
     "output_type": "stream",
     "text": [
      "True\n",
      "False\n"
     ]
    }
   ],
   "source": [
    "list3 = [1,2,3,4]\n",
    "print(1 in list3)\n",
    "print(5 in list3)\n",
    "\n"
   ]
  },
  {
   "cell_type": "code",
   "execution_count": 25,
   "id": "328190e5-3a25-41aa-a0b2-c2d383c5fd28",
   "metadata": {},
   "outputs": [
    {
     "data": {
      "text/plain": [
       "['maths', 'physics', 'computer science']"
      ]
     },
     "execution_count": 25,
     "metadata": {},
     "output_type": "execute_result"
    }
   ],
   "source": [
    "#mutability\n",
    "\n",
    "list1 = [\"maths\",\"physics\",\"chem\"]\n",
    "list1[2] = 'computer science'\n",
    "list1"
   ]
  },
  {
   "cell_type": "code",
   "execution_count": 26,
   "id": "12df4ea5-591c-4b7e-9677-523384fd5c36",
   "metadata": {},
   "outputs": [
    {
     "name": "stdout",
     "output_type": "stream",
     "text": [
      "6\n",
      "[1, 2, 3, 4, 5, 6]\n"
     ]
    }
   ],
   "source": [
    "#extend function --> it extends the list\n",
    "\n",
    "list1 = [1,2,3,4]\n",
    "list1.extend([5,6])\n",
    "print(len(list1))\n",
    "print(list1)"
   ]
  },
  {
   "cell_type": "code",
   "execution_count": 27,
   "id": "a7b0b692-98ac-41df-9217-c5a98a8c96d0",
   "metadata": {},
   "outputs": [
    {
     "name": "stdout",
     "output_type": "stream",
     "text": [
      "5\n",
      "[1, 2, 3, 4, [5, 6]]\n"
     ]
    }
   ],
   "source": [
    "#append does nearly the same thing but whatever inside the bracket is going to be \n",
    "#inserted as it is so in the following exmple it will add a new list inside our original list\n",
    "list1 = [1,2,3,4]\n",
    "list1.append([5,6])\n",
    "print(len(list1))\n",
    "print(list1)"
   ]
  },
  {
   "cell_type": "code",
   "execution_count": 28,
   "id": "28fca127-e897-4e1e-b7b2-5d1b6b5e4548",
   "metadata": {},
   "outputs": [
    {
     "data": {
      "text/plain": [
       "[1, 2, 4]"
      ]
     },
     "execution_count": 28,
     "metadata": {},
     "output_type": "execute_result"
    }
   ],
   "source": [
    "#del command\n",
    "list1 = [1,2,3,4]\n",
    "del list1[2]\n",
    "list1"
   ]
  },
  {
   "cell_type": "code",
   "execution_count": 29,
   "id": "2ecc606d-d0de-4293-b2e4-8980f273628a",
   "metadata": {},
   "outputs": [
    {
     "data": {
      "text/plain": [
       "[11, 22, 44]"
      ]
     },
     "execution_count": 29,
     "metadata": {},
     "output_type": "execute_result"
    }
   ],
   "source": [
    "#pop() - deletes the object based on the index value\n",
    "# default --> removes the last element \n",
    "\n",
    "list1 = [11,22,33,44]\n",
    "list1.pop(2)\n",
    "list1"
   ]
  },
  {
   "cell_type": "code",
   "execution_count": 30,
   "id": "245d8934-e85a-4153-bc7d-3ca42308b028",
   "metadata": {},
   "outputs": [
    {
     "data": {
      "text/plain": [
       "[11, 22, 33]"
      ]
     },
     "execution_count": 30,
     "metadata": {},
     "output_type": "execute_result"
    }
   ],
   "source": [
    "list1 = [11,22,33,44]\n",
    "list1.pop()\n",
    "list1"
   ]
  },
  {
   "cell_type": "code",
   "execution_count": 31,
   "id": "a9a4f602-9d82-4712-bbc6-020985f4aa18",
   "metadata": {},
   "outputs": [
    {
     "data": {
      "text/plain": [
       "[11, 33, 44]"
      ]
     },
     "execution_count": 31,
     "metadata": {},
     "output_type": "execute_result"
    }
   ],
   "source": [
    "#remove we give it a value not an index\n",
    "list1 = [11,22,33,44]\n",
    "list1.remove(22)\n",
    "list1"
   ]
  },
  {
   "cell_type": "code",
   "execution_count": 34,
   "id": "18d15d6e-089e-4ce0-91c1-5f874f65141d",
   "metadata": {},
   "outputs": [
    {
     "data": {
      "text/plain": [
       "[1, 2, 5, 7, 9, 234]"
      ]
     },
     "execution_count": 34,
     "metadata": {},
     "output_type": "execute_result"
    }
   ],
   "source": [
    "#sort \n",
    "A= [9,5,2,1,234,7]\n",
    "A.sort()\n",
    "A"
   ]
  },
  {
   "cell_type": "code",
   "execution_count": 35,
   "id": "6a22f7ad-6c2f-4ac1-98c4-5ee658359e9d",
   "metadata": {},
   "outputs": [
    {
     "data": {
      "text/plain": [
       "[234, 9, 7, 5, 2, 1]"
      ]
     },
     "execution_count": 35,
     "metadata": {},
     "output_type": "execute_result"
    }
   ],
   "source": [
    "A.sort(reverse=True)\n",
    "A"
   ]
  },
  {
   "cell_type": "markdown",
   "id": "44fd8a70-13da-4821-9d9e-2630e700b99b",
   "metadata": {},
   "source": [
    "### difference between sort and sorted "
   ]
  },
  {
   "cell_type": "code",
   "execution_count": 36,
   "id": "983aa683-d9ca-4c3d-b284-906a400d4bb6",
   "metadata": {},
   "outputs": [
    {
     "name": "stdout",
     "output_type": "stream",
     "text": [
      "['mango', 'oranges', 'strawberry']\n",
      "None\n"
     ]
    }
   ],
   "source": [
    "A = [\"oranges\",\"strawberry\",\"mango\"]\n",
    "B = A.sort()\n",
    "print(A)\n",
    "print(B)"
   ]
  },
  {
   "cell_type": "code",
   "execution_count": 38,
   "id": "bb78f746-4e02-48b8-bc95-a42f698aab42",
   "metadata": {},
   "outputs": [
    {
     "data": {
      "text/plain": [
       "['mango', 'oranges', 'strawberry']"
      ]
     },
     "execution_count": 38,
     "metadata": {},
     "output_type": "execute_result"
    }
   ],
   "source": [
    "A = [\"oranges\",\"strawberry\",\"mango\"]\n",
    "A.sort()\n",
    "A"
   ]
  },
  {
   "cell_type": "code",
   "execution_count": 39,
   "id": "212200dc-b0bf-4bff-8c63-4ceadf4512dc",
   "metadata": {},
   "outputs": [
    {
     "name": "stdout",
     "output_type": "stream",
     "text": [
      "['oranges', 'strawberry', 'mango']\n",
      "['mango', 'oranges', 'strawberry']\n"
     ]
    }
   ],
   "source": [
    "#sorted creates another object after sorting and store it in the new variable\n",
    "A = [\"oranges\",\"strawberry\",\"mango\"]\n",
    "B = sorted(A)\n",
    "print(A)\n",
    "print(B)"
   ]
  },
  {
   "cell_type": "code",
   "execution_count": 40,
   "id": "d92e94c3-7627-4694-8332-61425fc43431",
   "metadata": {},
   "outputs": [
    {
     "name": "stdout",
     "output_type": "stream",
     "text": [
      "['oranges', 'strawberry', 'mango']\n",
      "['oranges', 'strawberry', 'mango']\n"
     ]
    }
   ],
   "source": [
    "#shallow copy makes another A but you can call B but if you did anyhting then the other will have the same thing as well\n",
    "A = [\"oranges\",\"strawberry\",\"mango\"]\n",
    "B=A \n",
    "print(B)\n",
    "print(A)"
   ]
  },
  {
   "cell_type": "code",
   "execution_count": 41,
   "id": "cf6987fc-36eb-4785-896a-b6d41d85a2fc",
   "metadata": {},
   "outputs": [
    {
     "data": {
      "text/plain": [
       "'mango'"
      ]
     },
     "execution_count": 41,
     "metadata": {},
     "output_type": "execute_result"
    }
   ],
   "source": [
    "A.pop()"
   ]
  },
  {
   "cell_type": "code",
   "execution_count": 42,
   "id": "4c9c6c5f-d701-43c1-bfe3-ec1e4199f8b8",
   "metadata": {},
   "outputs": [
    {
     "name": "stdout",
     "output_type": "stream",
     "text": [
      "['oranges', 'strawberry']\n",
      "['oranges', 'strawberry']\n"
     ]
    }
   ],
   "source": [
    "print(B)\n",
    "print(A)"
   ]
  },
  {
   "cell_type": "code",
   "execution_count": 43,
   "id": "fe7af518-48f8-4d3e-a14d-5933673e26b2",
   "metadata": {},
   "outputs": [
    {
     "name": "stdout",
     "output_type": "stream",
     "text": [
      "['oranges', 'strawberry', 'mango']\n",
      "['oranges', 'strawberry', 'mango']\n"
     ]
    }
   ],
   "source": [
    "#not a shallow copy\n",
    "A = [\"oranges\",\"strawberry\",\"mango\"]\n",
    "B= A [0:3]\n",
    "print(B)\n",
    "print(A)"
   ]
  },
  {
   "cell_type": "code",
   "execution_count": 44,
   "id": "144144dd-2ea5-43da-8d11-43fffb4a8d18",
   "metadata": {},
   "outputs": [
    {
     "data": {
      "text/plain": [
       "'mango'"
      ]
     },
     "execution_count": 44,
     "metadata": {},
     "output_type": "execute_result"
    }
   ],
   "source": [
    "A.pop()"
   ]
  },
  {
   "cell_type": "code",
   "execution_count": 45,
   "id": "0fe7f2c4-ad77-4373-acd4-e25847607b4a",
   "metadata": {},
   "outputs": [
    {
     "name": "stdout",
     "output_type": "stream",
     "text": [
      "['oranges', 'strawberry', 'mango']\n",
      "['oranges', 'strawberry']\n"
     ]
    }
   ],
   "source": [
    "print(B)\n",
    "print(A)"
   ]
  },
  {
   "cell_type": "code",
   "execution_count": 48,
   "id": "16ea5933-da30-43bc-bb40-544b0f4cae29",
   "metadata": {},
   "outputs": [
    {
     "name": "stdout",
     "output_type": "stream",
     "text": [
      "kumar\n",
      "ravi\n",
      "003\n"
     ]
    }
   ],
   "source": [
    "input_str = 'kumar_ravi_003'\n",
    "print(input_str[0:5]) #[0:5] 5 is not inclusive so it will get me from 0 to 4\n",
    "print(input_str[6:10])\n",
    "print(input_str[11:14])"
   ]
  },
  {
   "cell_type": "code",
   "execution_count": 51,
   "id": "0174094c-3280-4c1d-9aa4-10340f388411",
   "metadata": {},
   "outputs": [
    {
     "data": {
      "text/plain": [
       "['kumar', 'ravi', '003']"
      ]
     },
     "execution_count": 51,
     "metadata": {},
     "output_type": "execute_result"
    }
   ],
   "source": [
    "input_str.split('_')"
   ]
  },
  {
   "cell_type": "code",
   "execution_count": null,
   "id": "68d2d04b-cde9-4870-b024-5772d7251d27",
   "metadata": {},
   "outputs": [],
   "source": []
  }
 ],
 "metadata": {
  "kernelspec": {
   "display_name": "Python 3 (ipykernel)",
   "language": "python",
   "name": "python3"
  },
  "language_info": {
   "codemirror_mode": {
    "name": "ipython",
    "version": 3
   },
   "file_extension": ".py",
   "mimetype": "text/x-python",
   "name": "python",
   "nbconvert_exporter": "python",
   "pygments_lexer": "ipython3",
   "version": "3.13.2"
  }
 },
 "nbformat": 4,
 "nbformat_minor": 5
}
