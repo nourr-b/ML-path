{
 "cells": [
  {
   "cell_type": "code",
   "execution_count": 1,
   "id": "4346539e-8d35-42be-89b4-557d6c64a34a",
   "metadata": {},
   "outputs": [
    {
     "name": "stdout",
     "output_type": "stream",
     "text": [
      "mike\n"
     ]
    }
   ],
   "source": [
    "name = 'mike'\n",
    "print(name)"
   ]
  },
  {
   "cell_type": "code",
   "execution_count": 2,
   "id": "208a1437-27ce-4538-b2ff-125cb71a8314",
   "metadata": {},
   "outputs": [
    {
     "name": "stdin",
     "output_type": "stream",
     "text": [
      "enter your name:  Nour\n"
     ]
    },
    {
     "name": "stdout",
     "output_type": "stream",
     "text": [
      "welcome Nour\n"
     ]
    }
   ],
   "source": [
    "name = input('enter your name: ')\n",
    "print('welcome',name)"
   ]
  },
  {
   "cell_type": "code",
   "execution_count": 3,
   "id": "7d7a2dc1-bfb6-4149-b1a2-b30fa73c30ea",
   "metadata": {},
   "outputs": [],
   "source": [
    "a = True\n",
    "b = 'True'"
   ]
  },
  {
   "cell_type": "code",
   "execution_count": 4,
   "id": "83457591-e5b1-460d-9e35-ee7f0aea5e4a",
   "metadata": {},
   "outputs": [
    {
     "name": "stdout",
     "output_type": "stream",
     "text": [
      "<class 'bool'>\n",
      "<class 'str'>\n"
     ]
    }
   ],
   "source": [
    "print(type(a))\n",
    "print(type(b))"
   ]
  },
  {
   "cell_type": "markdown",
   "id": "0dd44952-b345-4663-91f4-acb1114e99bf",
   "metadata": {},
   "source": [
    "Typecasting"
   ]
  },
  {
   "cell_type": "code",
   "execution_count": 8,
   "id": "a1e2494e-1de5-4fe5-8c2e-b34c03697b6c",
   "metadata": {},
   "outputs": [
    {
     "data": {
      "text/plain": [
       "int"
      ]
     },
     "execution_count": 8,
     "metadata": {},
     "output_type": "execute_result"
    }
   ],
   "source": [
    "var = 2\n",
    "type(var)"
   ]
  },
  {
   "cell_type": "code",
   "execution_count": 9,
   "id": "bfd3cddd-4ec7-43d3-82f8-e454499fafaf",
   "metadata": {},
   "outputs": [
    {
     "data": {
      "text/plain": [
       "float"
      ]
     },
     "execution_count": 9,
     "metadata": {},
     "output_type": "execute_result"
    }
   ],
   "source": [
    "var1=float(var)\n",
    "type(var1)"
   ]
  },
  {
   "cell_type": "code",
   "execution_count": 10,
   "id": "2eb857da-6501-4091-931d-c1928075eca8",
   "metadata": {},
   "outputs": [
    {
     "name": "stdout",
     "output_type": "stream",
     "text": [
      "2.0\n"
     ]
    }
   ],
   "source": [
    "print(var1)"
   ]
  },
  {
   "cell_type": "code",
   "execution_count": 11,
   "id": "adea8320-ea78-47d8-8e77-dc863c8a8c48",
   "metadata": {},
   "outputs": [
    {
     "data": {
      "text/plain": [
       "float"
      ]
     },
     "execution_count": 11,
     "metadata": {},
     "output_type": "execute_result"
    }
   ],
   "source": [
    "var = 2.9\n",
    "type(var)"
   ]
  },
  {
   "cell_type": "code",
   "execution_count": 12,
   "id": "9cbf8ece-6b48-4de5-9eb2-0c7e905c4431",
   "metadata": {},
   "outputs": [
    {
     "data": {
      "text/plain": [
       "int"
      ]
     },
     "execution_count": 12,
     "metadata": {},
     "output_type": "execute_result"
    }
   ],
   "source": [
    "var2 = int(var)\n",
    "type(var2)"
   ]
  },
  {
   "cell_type": "code",
   "execution_count": 13,
   "id": "26447485-1f3b-4546-a2be-8f23e0a2cfaf",
   "metadata": {},
   "outputs": [
    {
     "name": "stdout",
     "output_type": "stream",
     "text": [
      "2\n"
     ]
    }
   ],
   "source": [
    "print(var2)"
   ]
  },
  {
   "cell_type": "code",
   "execution_count": 16,
   "id": "ca3e5f7f-9e65-4155-a781-fc3fade092f8",
   "metadata": {},
   "outputs": [
    {
     "name": "stdout",
     "output_type": "stream",
     "text": [
      "2\n"
     ]
    },
    {
     "data": {
      "text/plain": [
       "'2'"
      ]
     },
     "execution_count": 16,
     "metadata": {},
     "output_type": "execute_result"
    }
   ],
   "source": [
    "var =2\n",
    "var3 = str(var)\n",
    "print(var)\n",
    "var3"
   ]
  },
  {
   "cell_type": "code",
   "execution_count": 17,
   "id": "b6f094f8-47b8-4fd4-992d-5c9c35e2eb0d",
   "metadata": {},
   "outputs": [
    {
     "data": {
      "text/plain": [
       "2"
      ]
     },
     "execution_count": 17,
     "metadata": {},
     "output_type": "execute_result"
    }
   ],
   "source": [
    "int(\"2\")"
   ]
  },
  {
   "cell_type": "code",
   "execution_count": 19,
   "id": "d13b6308-d0ce-476c-9bce-c162e89f3850",
   "metadata": {},
   "outputs": [
    {
     "data": {
      "text/plain": [
       "2.5"
      ]
     },
     "execution_count": 19,
     "metadata": {},
     "output_type": "execute_result"
    }
   ],
   "source": [
    "var = \"2.5\"\n",
    "float(var)"
   ]
  },
  {
   "cell_type": "code",
   "execution_count": 20,
   "id": "11960065-8c9c-4ae9-b74f-113aa1222a9a",
   "metadata": {},
   "outputs": [
    {
     "ename": "ValueError",
     "evalue": "invalid literal for int() with base 10: '2.5'",
     "output_type": "error",
     "traceback": [
      "\u001b[31m---------------------------------------------------------------------------\u001b[39m",
      "\u001b[31mValueError\u001b[39m                                Traceback (most recent call last)",
      "\u001b[36mCell\u001b[39m\u001b[36m \u001b[39m\u001b[32mIn[20]\u001b[39m\u001b[32m, line 1\u001b[39m\n\u001b[32m----> \u001b[39m\u001b[32m1\u001b[39m \u001b[38;5;28;43mint\u001b[39;49m\u001b[43m(\u001b[49m\u001b[43mvar\u001b[49m\u001b[43m)\u001b[49m\n",
      "\u001b[31mValueError\u001b[39m: invalid literal for int() with base 10: '2.5'"
     ]
    }
   ],
   "source": [
    "int(var)"
   ]
  },
  {
   "cell_type": "code",
   "execution_count": 21,
   "id": "b4d2e2a2-325e-405a-ae04-101c8f1b6639",
   "metadata": {},
   "outputs": [
    {
     "name": "stdout",
     "output_type": "stream",
     "text": [
      "2.5 2.5 2\n"
     ]
    }
   ],
   "source": [
    "var = \"2.5\"\n",
    "varNew= float(var)\n",
    "varint = int(varNew)\n",
    "print(var,varNew,varint)\n"
   ]
  },
  {
   "cell_type": "code",
   "execution_count": 22,
   "id": "c3aa6799-8caf-487a-a4ec-fc03e18e7d9d",
   "metadata": {},
   "outputs": [
    {
     "data": {
      "text/plain": [
       "'a'"
      ]
     },
     "execution_count": 22,
     "metadata": {},
     "output_type": "execute_result"
    }
   ],
   "source": [
    "string = 'abcdefgh'\n",
    "string[0]"
   ]
  },
  {
   "cell_type": "code",
   "execution_count": 23,
   "id": "d2548edf-fce7-4570-b6b3-af28be88e1dc",
   "metadata": {},
   "outputs": [
    {
     "data": {
      "text/plain": [
       "'d'"
      ]
     },
     "execution_count": 23,
     "metadata": {},
     "output_type": "execute_result"
    }
   ],
   "source": [
    "string[-5]"
   ]
  },
  {
   "cell_type": "code",
   "execution_count": 24,
   "id": "f6967530-5dd9-40ef-a8ec-74cc9c6993d2",
   "metadata": {},
   "outputs": [],
   "source": [
    "str1 = 'hello'"
   ]
  },
  {
   "cell_type": "code",
   "execution_count": 25,
   "id": "b7654a31-05e2-4c1b-aae3-4872f7a5ad63",
   "metadata": {},
   "outputs": [
    {
     "ename": "TypeError",
     "evalue": "'str' object does not support item assignment",
     "output_type": "error",
     "traceback": [
      "\u001b[31m---------------------------------------------------------------------------\u001b[39m",
      "\u001b[31mTypeError\u001b[39m                                 Traceback (most recent call last)",
      "\u001b[36mCell\u001b[39m\u001b[36m \u001b[39m\u001b[32mIn[25]\u001b[39m\u001b[32m, line 1\u001b[39m\n\u001b[32m----> \u001b[39m\u001b[32m1\u001b[39m \u001b[43mstr1\u001b[49m\u001b[43m[\u001b[49m\u001b[32;43m0\u001b[39;49m\u001b[43m]\u001b[49m = \u001b[33m'\u001b[39m\u001b[33my\u001b[39m\u001b[33m'\u001b[39m\n",
      "\u001b[31mTypeError\u001b[39m: 'str' object does not support item assignment"
     ]
    }
   ],
   "source": [
    "str1[0] = 'y'"
   ]
  },
  {
   "cell_type": "code",
   "execution_count": 26,
   "id": "b917ae6d-d42a-4baa-86d5-26fc04a36c3e",
   "metadata": {},
   "outputs": [],
   "source": [
    "str1 = 'yello'"
   ]
  },
  {
   "cell_type": "code",
   "execution_count": 27,
   "id": "438ebc3e-5f80-4783-9c83-f9d8416a4003",
   "metadata": {},
   "outputs": [],
   "source": [
    "a = 10\n",
    "b = 2"
   ]
  },
  {
   "cell_type": "code",
   "execution_count": 33,
   "id": "9adc2315-83e3-415c-82c5-5e34047408ef",
   "metadata": {},
   "outputs": [
    {
     "data": {
      "text/plain": [
       "100000"
      ]
     },
     "execution_count": 33,
     "metadata": {},
     "output_type": "execute_result"
    }
   ],
   "source": [
    "a = 10\n",
    "b = 5\n",
    "a**b #power"
   ]
  },
  {
   "cell_type": "code",
   "execution_count": 34,
   "id": "42cce23e-5e66-4bd5-9e38-193d475ec5b4",
   "metadata": {},
   "outputs": [
    {
     "data": {
      "text/plain": [
       "2.0"
      ]
     },
     "execution_count": 34,
     "metadata": {},
     "output_type": "execute_result"
    }
   ],
   "source": [
    "a/b #division operation"
   ]
  },
  {
   "cell_type": "code",
   "execution_count": 35,
   "id": "9b15ed2d-b4ec-4bfa-8b2b-f65bc11108a6",
   "metadata": {},
   "outputs": [
    {
     "data": {
      "text/plain": [
       "2"
      ]
     },
     "execution_count": 35,
     "metadata": {},
     "output_type": "execute_result"
    }
   ],
   "source": [
    "a//b #floor division and it is always an integer result"
   ]
  },
  {
   "cell_type": "code",
   "execution_count": 36,
   "id": "39922a39-7053-4c95-bfc7-a6bc9f2c7ec9",
   "metadata": {},
   "outputs": [
    {
     "data": {
      "text/plain": [
       "0"
      ]
     },
     "execution_count": 36,
     "metadata": {},
     "output_type": "execute_result"
    }
   ],
   "source": [
    "a%b #remainder or modulus"
   ]
  },
  {
   "cell_type": "code",
   "execution_count": 37,
   "id": "37d06ffe-cf95-438d-bfc8-f55cbff57f71",
   "metadata": {},
   "outputs": [
    {
     "data": {
      "text/plain": [
       "4"
      ]
     },
     "execution_count": 37,
     "metadata": {},
     "output_type": "execute_result"
    }
   ],
   "source": [
    "4%100"
   ]
  },
  {
   "cell_type": "code",
   "execution_count": null,
   "id": "32a85100-8a35-4c1e-be93-675709129125",
   "metadata": {},
   "outputs": [],
   "source": []
  }
 ],
 "metadata": {
  "kernelspec": {
   "display_name": "Python 3 (ipykernel)",
   "language": "python",
   "name": "python3"
  },
  "language_info": {
   "codemirror_mode": {
    "name": "ipython",
    "version": 3
   },
   "file_extension": ".py",
   "mimetype": "text/x-python",
   "name": "python",
   "nbconvert_exporter": "python",
   "pygments_lexer": "ipython3",
   "version": "3.13.2"
  }
 },
 "nbformat": 4,
 "nbformat_minor": 5
}
