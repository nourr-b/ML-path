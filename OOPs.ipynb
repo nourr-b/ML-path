{
 "cells": [
  {
   "cell_type": "markdown",
   "id": "252b1275-13dd-4313-a155-583b6df63ea5",
   "metadata": {},
   "source": [
    "# OOP in python"
   ]
  },
  {
   "cell_type": "markdown",
   "id": "a51e7a8e-ab63-4203-bcef-7daca62c34be",
   "metadata": {},
   "source": [
    "## Creating Classes and Objects"
   ]
  },
  {
   "cell_type": "markdown",
   "id": "d0620b3a-4e40-4a94-b300-cebd1172f87f",
   "metadata": {},
   "source": [
    "### Defining a class\n",
    "- length and width as attributes\n",
    "- init() - constructor class\n",
    "- self parameter-refers to the newly created instance of the class\n",
    "- attributes length and width are associated with self-keyword to identify them as instance variable"
   ]
  },
  {
   "cell_type": "code",
   "execution_count": 1,
   "id": "b6f2d7c7-7908-4bed-80b2-50841ee3b9cf",
   "metadata": {},
   "outputs": [],
   "source": [
    "class Rectangle:\n",
    "    def __init__(self):\n",
    "        self.length=10\n",
    "        self.width=5"
   ]
  },
  {
   "cell_type": "markdown",
   "id": "497a300e-8f7b-4e97-92c8-331108394c91",
   "metadata": {},
   "source": [
    "- create the object by calling name of the class followed by paranthesis\n",
    "- print the values using dot operator"
   ]
  },
  {
   "cell_type": "code",
   "execution_count": 2,
   "id": "ee25935d-3462-467d-96f3-fbf8a774aba6",
   "metadata": {},
   "outputs": [
    {
     "data": {
      "text/plain": [
       "5"
      ]
     },
     "execution_count": 2,
     "metadata": {},
     "output_type": "execute_result"
    }
   ],
   "source": [
    "rect = Rectangle()\n",
    "rect.width"
   ]
  },
  {
   "cell_type": "markdown",
   "id": "4f448546-3999-4e6f-b423-9d8bdea41382",
   "metadata": {},
   "source": [
    "### Parametrized constructor"
   ]
  },
  {
   "cell_type": "code",
   "execution_count": 3,
   "id": "ca997a0a-3dce-4998-8ff4-20a377523215",
   "metadata": {},
   "outputs": [],
   "source": [
    "class Rectangle:\n",
    "    def __init__(self):\n",
    "        self.length=10\n",
    "        self.width=5"
   ]
  },
  {
   "cell_type": "code",
   "execution_count": 4,
   "id": "f9ab779f-e873-4413-b7ec-b195b68c4cab",
   "metadata": {},
   "outputs": [],
   "source": [
    "class Rectangle:\n",
    "    def __init__(self,length,width):\n",
    "        self.length=length\n",
    "        self.width=width"
   ]
  },
  {
   "cell_type": "code",
   "execution_count": 5,
   "id": "cf7fc127-17e2-403c-b5d7-db52508de815",
   "metadata": {},
   "outputs": [
    {
     "name": "stdout",
     "output_type": "stream",
     "text": [
      "5 10\n"
     ]
    }
   ],
   "source": [
    "rect = Rectangle(5,10)\n",
    "print(rect.length,rect.width)"
   ]
  },
  {
   "cell_type": "markdown",
   "id": "03256dba-f2da-468e-acfd-a6af38a68d01",
   "metadata": {},
   "source": [
    "## class variable and instance variable"
   ]
  },
  {
   "cell_type": "code",
   "execution_count": 6,
   "id": "405c593f-7037-4743-8d32-81ace376e8c0",
   "metadata": {},
   "outputs": [],
   "source": [
    "class Circle:\n",
    "    pi = 3.14\n",
    "    def __init__ (self,radius):\n",
    "        self.radius = radius"
   ]
  },
  {
   "cell_type": "code",
   "execution_count": 7,
   "id": "53f69987-df92-4313-b6bf-72fa64f9e27d",
   "metadata": {},
   "outputs": [
    {
     "data": {
      "text/plain": [
       "5"
      ]
     },
     "execution_count": 7,
     "metadata": {},
     "output_type": "execute_result"
    }
   ],
   "source": [
    "#Instantiating the circle class\n",
    "circle1 = Circle(5)\n",
    "circle1.radius"
   ]
  },
  {
   "cell_type": "code",
   "execution_count": 8,
   "id": "a1b9a45a-f94c-4235-bb07-6abac11299e8",
   "metadata": {},
   "outputs": [
    {
     "data": {
      "text/plain": [
       "3.14"
      ]
     },
     "execution_count": 8,
     "metadata": {},
     "output_type": "execute_result"
    }
   ],
   "source": [
    "circle1.pi"
   ]
  },
  {
   "cell_type": "code",
   "execution_count": 9,
   "id": "d8a2a12c-167a-4007-bbbc-88906e2b3816",
   "metadata": {},
   "outputs": [],
   "source": [
    "Circle.pi = 3.1436"
   ]
  },
  {
   "cell_type": "code",
   "execution_count": 10,
   "id": "143e7a15-4028-43fe-9fa1-a9e06b18931e",
   "metadata": {},
   "outputs": [
    {
     "data": {
      "text/plain": [
       "5"
      ]
     },
     "execution_count": 10,
     "metadata": {},
     "output_type": "execute_result"
    }
   ],
   "source": [
    "circle1 = Circle(5)\n",
    "circle1.radius"
   ]
  },
  {
   "cell_type": "code",
   "execution_count": 11,
   "id": "f7ed0d76-7174-4aee-b4f1-24b3d0b08966",
   "metadata": {},
   "outputs": [
    {
     "data": {
      "text/plain": [
       "3.1436"
      ]
     },
     "execution_count": 11,
     "metadata": {},
     "output_type": "execute_result"
    }
   ],
   "source": [
    "circle1.pi"
   ]
  },
  {
   "cell_type": "markdown",
   "id": "c0fb37da-3c8c-47ca-845b-c188a6e6a7e7",
   "metadata": {},
   "source": [
    "## Adding a method to class"
   ]
  },
  {
   "cell_type": "code",
   "execution_count": 12,
   "id": "9db4cec0-c0c2-405f-9963-8d4ea9cea8ad",
   "metadata": {},
   "outputs": [],
   "source": [
    "class Rectangle:\n",
    "    def __init__(self,length,width):\n",
    "        self.length=length\n",
    "        self.width=width\n",
    "    def area(self):\n",
    "        return self.length*self.width"
   ]
  },
  {
   "cell_type": "code",
   "execution_count": 13,
   "id": "dcd6c878-0d23-44d7-aba9-90d37cc0c602",
   "metadata": {},
   "outputs": [
    {
     "data": {
      "text/plain": [
       "50"
      ]
     },
     "execution_count": 13,
     "metadata": {},
     "output_type": "execute_result"
    }
   ],
   "source": [
    "rect = Rectangle(10,5)\n",
    "rect.area()"
   ]
  },
  {
   "cell_type": "markdown",
   "id": "8ab3fcbe-76ed-4103-8c31-669105a1b1d2",
   "metadata": {},
   "source": [
    "## Significance of self\n",
    "- the attributes length and width are associated with an instance \n",
    "- self makes sure that each instance refers to its own copy of attributes"
   ]
  },
  {
   "cell_type": "code",
   "execution_count": 15,
   "id": "de821fa2-97fd-4ab9-b07c-d16204063cb1",
   "metadata": {},
   "outputs": [
    {
     "name": "stdout",
     "output_type": "stream",
     "text": [
      "15 8\n",
      "120\n"
     ]
    }
   ],
   "source": [
    "new_rect = Rectangle(15,8)\n",
    "print(new_rect.length,new_rect.width)\n",
    "print(new_rect.area())"
   ]
  },
  {
   "cell_type": "markdown",
   "id": "3d213a30-edef-4fc1-bb49-0dc6cfa03e28",
   "metadata": {},
   "source": [
    "## Inheritance and overriding"
   ]
  },
  {
   "cell_type": "code",
   "execution_count": 16,
   "id": "0ec31e1c-5eae-4eae-a59d-f348af1d89cb",
   "metadata": {},
   "outputs": [],
   "source": [
    "class Employee:\n",
    "    def fun1(self):\n",
    "        print(\"hello world\")\n",
    "class Department(Employee):\n",
    "    pass"
   ]
  },
  {
   "cell_type": "code",
   "execution_count": 17,
   "id": "d62706bc-a951-4ff8-b1b3-5fa049fec619",
   "metadata": {},
   "outputs": [
    {
     "name": "stdout",
     "output_type": "stream",
     "text": [
      "hello world\n"
     ]
    }
   ],
   "source": [
    "emp = Employee()\n",
    "emp.fun1()"
   ]
  },
  {
   "cell_type": "code",
   "execution_count": 18,
   "id": "22cc2fba-10f1-4571-995f-c82a0de76a1b",
   "metadata": {},
   "outputs": [
    {
     "name": "stdout",
     "output_type": "stream",
     "text": [
      "hello world\n"
     ]
    }
   ],
   "source": [
    "dep = Department()\n",
    "dep.fun1()"
   ]
  },
  {
   "cell_type": "code",
   "execution_count": 19,
   "id": "dbbfa909-7cea-4b6b-8619-30c90aff4d52",
   "metadata": {},
   "outputs": [],
   "source": [
    "class Shape:\n",
    "    def set(self,color):\n",
    "        self.color= color\n",
    "    def area(self):\n",
    "        pass\n",
    "    def color_shape(self):\n",
    "        price = {\"red\":10,\"blue\":15,\"green\":5}\n",
    "        return self.area()*price[self.color]"
   ]
  },
  {
   "cell_type": "code",
   "execution_count": 20,
   "id": "323f0d71-d2f5-43e7-8992-c57f495a8699",
   "metadata": {},
   "outputs": [],
   "source": [
    "class Circle(Shape):\n",
    "    pi = 3.14\n",
    "    def __init__ (self,radius):\n",
    "        self.radius=radius\n",
    "    def area(self):\n",
    "        return Circle.pi*self.radius"
   ]
  },
  {
   "cell_type": "code",
   "execution_count": 21,
   "id": "d7a810fb-0f86-409b-8f8c-6d82370f7cd4",
   "metadata": {},
   "outputs": [],
   "source": [
    "c = Circle(5)\n",
    "c.set(\"red\")"
   ]
  },
  {
   "cell_type": "code",
   "execution_count": 22,
   "id": "e2e276cb-71f9-4aca-94a5-6537a4817221",
   "metadata": {},
   "outputs": [
    {
     "data": {
      "text/plain": [
       "15.700000000000001"
      ]
     },
     "execution_count": 22,
     "metadata": {},
     "output_type": "execute_result"
    }
   ],
   "source": [
    "c.area()"
   ]
  },
  {
   "cell_type": "code",
   "execution_count": null,
   "id": "74917d10-5d79-4b3b-89d6-efc45966dc7d",
   "metadata": {},
   "outputs": [],
   "source": []
  }
 ],
 "metadata": {
  "kernelspec": {
   "display_name": "Python 3 (ipykernel)",
   "language": "python",
   "name": "python3"
  },
  "language_info": {
   "codemirror_mode": {
    "name": "ipython",
    "version": 3
   },
   "file_extension": ".py",
   "mimetype": "text/x-python",
   "name": "python",
   "nbconvert_exporter": "python",
   "pygments_lexer": "ipython3",
   "version": "3.13.2"
  }
 },
 "nbformat": 4,
 "nbformat_minor": 5
}
