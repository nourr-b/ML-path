{
 "cells": [
  {
   "cell_type": "markdown",
   "id": "edfc77b3-d1da-47e8-ba2f-b88caa2575e1",
   "metadata": {},
   "source": [
    "# Map, Reduce & Filter"
   ]
  },
  {
   "cell_type": "code",
   "execution_count": null,
   "id": "693a3c82-6ee7-48bd-b645-aae32307725d",
   "metadata": {},
   "outputs": [],
   "source": []
  }
 ],
 "metadata": {
  "kernelspec": {
   "display_name": "Python 3 (ipykernel)",
   "language": "python",
   "name": "python3"
  },
  "language_info": {
   "codemirror_mode": {
    "name": "ipython",
    "version": 3
   },
   "file_extension": ".py",
   "mimetype": "text/x-python",
   "name": "python",
   "nbconvert_exporter": "python",
   "pygments_lexer": "ipython3",
   "version": "3.13.2"
  }
 },
 "nbformat": 4,
 "nbformat_minor": 5
}
