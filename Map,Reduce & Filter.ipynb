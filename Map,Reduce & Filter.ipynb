{
 "cells": [
  {
   "cell_type": "markdown",
   "id": "edfc77b3-d1da-47e8-ba2f-b88caa2575e1",
   "metadata": {},
   "source": [
    "# Map, Reduce & Filter"
   ]
  },
  {
   "cell_type": "markdown",
   "id": "42e55fcb-0a5a-4d2c-b0cb-83699a83da4f",
   "metadata": {},
   "source": [
    "## Map"
   ]
  },
  {
   "cell_type": "code",
   "execution_count": 3,
   "id": "693a3c82-6ee7-48bd-b645-aae32307725d",
   "metadata": {},
   "outputs": [
    {
     "name": "stdout",
     "output_type": "stream",
     "text": [
      "[3.141592653589793, 12.566370614359172, 28.274333882308138]\n"
     ]
    }
   ],
   "source": [
    "#Area of circle fn\n",
    "import math\n",
    "radii = [1,2,3]\n",
    "area = list(map(lambda r: (math.pi)*(r**2),radii))\n",
    "print(area)"
   ]
  },
  {
   "cell_type": "code",
   "execution_count": 4,
   "id": "32a688f1-13b3-4375-96b2-1b36f9257fa1",
   "metadata": {},
   "outputs": [
    {
     "name": "stdout",
     "output_type": "stream",
     "text": [
      "[3.141592653589793, 12.566370614359172, 28.274333882308138]\n"
     ]
    }
   ],
   "source": [
    "#another way using normal functions\n",
    "import math\n",
    "def area(r):\n",
    "    return math.pi*(r**2)\n",
    "radii = [1,2,3]\n",
    "print(list(map(area,radii)))"
   ]
  },
  {
   "cell_type": "code",
   "execution_count": 6,
   "id": "86127cd8-41d7-472d-aacd-af89c77de238",
   "metadata": {},
   "outputs": [
    {
     "data": {
      "text/plain": [
       "list"
      ]
     },
     "execution_count": 6,
     "metadata": {},
     "output_type": "execute_result"
    }
   ],
   "source": [
    "#convert celcius to farhenheit \n",
    "# F = 9/5*C+32\n",
    "\n",
    "temps = [(\"Mumbai\",35),(\"Berlin\",12),(\"Tokyo\",25),(\"Hong kong\",31),(\"Egypt\",30)]\n",
    "type(temps)"
   ]
  },
  {
   "cell_type": "code",
   "execution_count": 11,
   "id": "99d36e6a-99ec-48ef-95d0-d9fa851da14c",
   "metadata": {},
   "outputs": [],
   "source": [
    "cel_to_f = lambda num : (num[0],(9/5)*num[1]+32) \n",
    "# giving num[0] which is mumbai and the city names the corresponding value when transfered to fahrenheit"
   ]
  },
  {
   "cell_type": "code",
   "execution_count": 12,
   "id": "6d3e9ba4-c0ce-4cb4-9234-41fe4bf9c3a8",
   "metadata": {},
   "outputs": [
    {
     "name": "stdout",
     "output_type": "stream",
     "text": [
      "[('Mumbai', 95.0), ('Berlin', 53.6), ('Tokyo', 77.0), ('Hong kong', 87.80000000000001), ('Egypt', 86.0)]\n"
     ]
    }
   ],
   "source": [
    "list2 = list(map(cel_to_f,temps))\n",
    "print(list2)"
   ]
  },
  {
   "cell_type": "markdown",
   "id": "dcec4f67-b40b-436f-b6fc-af23b0bef438",
   "metadata": {},
   "source": [
    "## Filter"
   ]
  },
  {
   "cell_type": "markdown",
   "id": "d7e94c0d-6444-46ae-8d50-b7c3439e5e2d",
   "metadata": {},
   "source": [
    "filters out the data "
   ]
  },
  {
   "cell_type": "markdown",
   "id": "6f14b625-77c3-4a39-bce9-f586f986c2dd",
   "metadata": {},
   "source": [
    "filter(f,data)"
   ]
  },
  {
   "cell_type": "code",
   "execution_count": 14,
   "id": "3daf93a1-1993-48ac-b921-b7a83f80742f",
   "metadata": {},
   "outputs": [
    {
     "name": "stdout",
     "output_type": "stream",
     "text": [
      "5.1\n"
     ]
    }
   ],
   "source": [
    "import statistics\n",
    "data = [1,2,3,4,5,9,12,4,2,9]\n",
    "avg = statistics.mean(data)\n",
    "print(avg)"
   ]
  },
  {
   "cell_type": "code",
   "execution_count": 16,
   "id": "5edac7b3-5ffe-43c6-b176-ff5359d98c05",
   "metadata": {},
   "outputs": [
    {
     "data": {
      "text/plain": [
       "<filter at 0x2207aeb7b80>"
      ]
     },
     "execution_count": 16,
     "metadata": {},
     "output_type": "execute_result"
    }
   ],
   "source": [
    "filter(lambda x: x>avg , data)"
   ]
  },
  {
   "cell_type": "code",
   "execution_count": 17,
   "id": "ca82b3ad-2166-407c-b810-29abccc86a4b",
   "metadata": {},
   "outputs": [
    {
     "data": {
      "text/plain": [
       "[9, 12, 9]"
      ]
     },
     "execution_count": 17,
     "metadata": {},
     "output_type": "execute_result"
    }
   ],
   "source": [
    "list(filter(lambda x: x>avg , data))"
   ]
  },
  {
   "cell_type": "code",
   "execution_count": 19,
   "id": "168ee9e1-c1fe-4fe6-b1c8-42877655d466",
   "metadata": {},
   "outputs": [
    {
     "name": "stdout",
     "output_type": "stream",
     "text": [
      "[3.141592653589793, 12.566370614359172, 28.274333882308138]\n"
     ]
    }
   ],
   "source": [
    "listc = list(map(area,radii))\n",
    "print(listc)"
   ]
  },
  {
   "cell_type": "code",
   "execution_count": 20,
   "id": "b004b889-39e9-428a-b9d1-9c07df7086bd",
   "metadata": {},
   "outputs": [
    {
     "data": {
      "text/plain": [
       "[12.566370614359172, 28.274333882308138]"
      ]
     },
     "execution_count": 20,
     "metadata": {},
     "output_type": "execute_result"
    }
   ],
   "source": [
    "list(filter(lambda x:x>10 , listc))"
   ]
  },
  {
   "cell_type": "code",
   "execution_count": 22,
   "id": "a3ab0cb0-ac41-4065-9b6b-4d6d43d9e737",
   "metadata": {},
   "outputs": [
    {
     "data": {
      "text/plain": [
       "<filter at 0x2207aeb52d0>"
      ]
     },
     "execution_count": 22,
     "metadata": {},
     "output_type": "execute_result"
    }
   ],
   "source": [
    "#getting rid of null values\n",
    "name = [\"nour\",\"moh\",0,0.0,\"\",\"jamayka\"]\n",
    "filter(None,name)"
   ]
  },
  {
   "cell_type": "code",
   "execution_count": 23,
   "id": "15cf584c-ff6b-46b9-a033-739d1ab27e77",
   "metadata": {},
   "outputs": [
    {
     "data": {
      "text/plain": [
       "['nour', 'moh', 'jamayka']"
      ]
     },
     "execution_count": 23,
     "metadata": {},
     "output_type": "execute_result"
    }
   ],
   "source": [
    "list(filter(None,name))"
   ]
  },
  {
   "cell_type": "markdown",
   "id": "c24cd157-41e2-4a83-a706-0bd18cf2d3b6",
   "metadata": {},
   "source": [
    "## Reduce"
   ]
  },
  {
   "cell_type": "markdown",
   "id": "6a11f605-2c25-4554-8a88-69963a348e5f",
   "metadata": {},
   "source": [
    "reduce(f,data)"
   ]
  },
  {
   "cell_type": "code",
   "execution_count": 24,
   "id": "ec42c485-a8a6-4116-86ee-e6e16f413c61",
   "metadata": {},
   "outputs": [],
   "source": [
    "from functools import reduce\n",
    "# multiply all items in a list\n",
    "data = [1,2,3,4,5]"
   ]
  },
  {
   "cell_type": "code",
   "execution_count": 25,
   "id": "7d21cace-3460-4e30-a928-2ac53a70a031",
   "metadata": {},
   "outputs": [],
   "source": [
    "multiplier= lambda x,y : x*y"
   ]
  },
  {
   "cell_type": "code",
   "execution_count": 26,
   "id": "f6ebab3d-3750-4cf8-8461-c4a35379dfa7",
   "metadata": {},
   "outputs": [
    {
     "data": {
      "text/plain": [
       "120"
      ]
     },
     "execution_count": 26,
     "metadata": {},
     "output_type": "execute_result"
    }
   ],
   "source": [
    "reduce(multiplier,data)"
   ]
  },
  {
   "cell_type": "code",
   "execution_count": 27,
   "id": "a0d02334-28c8-4d1e-8738-d0564f6941b3",
   "metadata": {},
   "outputs": [
    {
     "name": "stdout",
     "output_type": "stream",
     "text": [
      "120\n"
     ]
    }
   ],
   "source": [
    "#without reduce\n",
    "prev= data[0]\n",
    "for i in data:\n",
    "    i = i*prev\n",
    "    prev=i\n",
    "print(i)"
   ]
  },
  {
   "cell_type": "code",
   "execution_count": 31,
   "id": "7c420134-a3a2-45c4-9513-8d16a8c8a432",
   "metadata": {},
   "outputs": [
    {
     "data": {
      "text/plain": [
       "15"
      ]
     },
     "execution_count": 31,
     "metadata": {},
     "output_type": "execute_result"
    }
   ],
   "source": [
    "# sum all the items of a list\n",
    "data = [1,2,3,4,5]\n",
    "sum1 = lambda x,y : x+y\n",
    "reduce(sum1,data)"
   ]
  },
  {
   "cell_type": "code",
   "execution_count": null,
   "id": "15d67cdd-13c3-48c3-8fc3-99acf64e13f1",
   "metadata": {},
   "outputs": [],
   "source": []
  }
 ],
 "metadata": {
  "kernelspec": {
   "display_name": "Python 3 (ipykernel)",
   "language": "python",
   "name": "python3"
  },
  "language_info": {
   "codemirror_mode": {
    "name": "ipython",
    "version": 3
   },
   "file_extension": ".py",
   "mimetype": "text/x-python",
   "name": "python",
   "nbconvert_exporter": "python",
   "pygments_lexer": "ipython3",
   "version": "3.13.2"
  }
 },
 "nbformat": 4,
 "nbformat_minor": 5
}
