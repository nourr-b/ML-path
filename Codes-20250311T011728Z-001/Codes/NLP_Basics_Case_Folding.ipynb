{
  "nbformat": 4,
  "nbformat_minor": 0,
  "metadata": {
    "colab": {
      "provenance": []
    },
    "kernelspec": {
      "name": "python3",
      "display_name": "Python 3"
    },
    "language_info": {
      "name": "python"
    }
  },
  "cells": [
    {
      "cell_type": "code",
      "execution_count": null,
      "metadata": {
        "colab": {
          "base_uri": "https://localhost:8080/"
        },
        "id": "KvFn_rH86azo",
        "outputId": "93c8f724-4a2c-4cbb-f2fa-52e135dcbf7f"
      },
      "outputs": [
        {
          "output_type": "stream",
          "name": "stdout",
          "text": [
            "Hello, And Welcome to My World\n"
          ]
        }
      ],
      "source": [
        "txt = \"Hello, And Welcome to My World\"\n",
        "print(txt)"
      ]
    },
    {
      "cell_type": "code",
      "source": [
        "x = txt.casefold()\n",
        "print(x)"
      ],
      "metadata": {
        "colab": {
          "base_uri": "https://localhost:8080/"
        },
        "id": "rDpNQtAk8tdq",
        "outputId": "6cdca127-ec0a-4f1e-8878-9f35db6a7af9"
      },
      "execution_count": null,
      "outputs": [
        {
          "output_type": "stream",
          "name": "stdout",
          "text": [
            "hello, and welcome to my world\n"
          ]
        }
      ]
    },
    {
      "cell_type": "code",
      "source": [
        "y = txt.lower()\n",
        "print(y)"
      ],
      "metadata": {
        "colab": {
          "base_uri": "https://localhost:8080/"
        },
        "id": "p1Dd_Pi_8yMb",
        "outputId": "21901717-9800-41d7-cbf2-ba5497e6e2a2"
      },
      "execution_count": null,
      "outputs": [
        {
          "output_type": "stream",
          "name": "stdout",
          "text": [
            "hello, and welcome to my world\n"
          ]
        }
      ]
    },
    {
      "cell_type": "code",
      "source": [],
      "metadata": {
        "id": "MWbUWcN381ZU"
      },
      "execution_count": null,
      "outputs": []
    }
  ]
}