{
  "nbformat": 4,
  "nbformat_minor": 0,
  "metadata": {
    "colab": {
      "provenance": []
    },
    "kernelspec": {
      "name": "python3",
      "display_name": "Python 3"
    },
    "language_info": {
      "name": "python"
    }
  },
  "cells": [
    {
      "cell_type": "code",
      "execution_count": 2,
      "metadata": {
        "id": "JMWKcLHc7pT3"
      },
      "outputs": [],
      "source": [
        "import nltk\n",
        "from nltk.corpus import stopwords\n",
        "from nltk.tokenize import word_tokenize"
      ]
    },
    {
      "cell_type": "code",
      "source": [
        "# Sample Sentence\n",
        "sentence = \"This is a sample sentence, showing off the stop words filtration\""
      ],
      "metadata": {
        "id": "Qhvo9swt-IW7"
      },
      "execution_count": 6,
      "outputs": []
    },
    {
      "cell_type": "code",
      "source": [
        "# Tokenize the Sentence\n",
        "nltk.download('punkt')\n",
        "nltk.download('stopwords')\n",
        "words = word_tokenize(sentence)\n",
        "\n",
        "# Filter out stopwords\n",
        "new_sentence = [word for word in words if word.lower() not in stopwords.words('english')]"
      ],
      "metadata": {
        "colab": {
          "base_uri": "https://localhost:8080/"
        },
        "id": "nEqPKX_0-TyD",
        "outputId": "20fdd17a-d276-47cd-e8e2-f2693cc6f42c"
      },
      "execution_count": 9,
      "outputs": [
        {
          "output_type": "stream",
          "name": "stderr",
          "text": [
            "[nltk_data] Downloading package punkt to /root/nltk_data...\n",
            "[nltk_data]   Package punkt is already up-to-date!\n",
            "[nltk_data] Downloading package stopwords to /root/nltk_data...\n",
            "[nltk_data]   Package stopwords is already up-to-date!\n"
          ]
        }
      ]
    },
    {
      "cell_type": "code",
      "source": [
        "# Print the final sentence\n",
        "print(sentence)\n",
        "print(new_sentence)"
      ],
      "metadata": {
        "colab": {
          "base_uri": "https://localhost:8080/"
        },
        "id": "QWrpJPDF-hv8",
        "outputId": "1c256e31-db03-4416-ef98-4f02b6e332a0"
      },
      "execution_count": 10,
      "outputs": [
        {
          "output_type": "stream",
          "name": "stdout",
          "text": [
            "This is a sample sentence, showing off the stop words filtration\n",
            "['sample', 'sentence', ',', 'showing', 'stop', 'words', 'filtration']\n"
          ]
        }
      ]
    },
    {
      "cell_type": "code",
      "source": [],
      "metadata": {
        "id": "gm6-ZrS3-x2a"
      },
      "execution_count": null,
      "outputs": []
    }
  ]
}