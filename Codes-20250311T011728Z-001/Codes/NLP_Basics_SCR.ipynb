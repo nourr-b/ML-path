{
  "nbformat": 4,
  "nbformat_minor": 0,
  "metadata": {
    "colab": {
      "provenance": []
    },
    "kernelspec": {
      "name": "python3",
      "display_name": "Python 3"
    },
    "language_info": {
      "name": "python"
    }
  },
  "cells": [
    {
      "cell_type": "markdown",
      "source": [
        "## Special Character Removal"
      ],
      "metadata": {
        "id": "HXCDFAkACLEi"
      }
    },
    {
      "cell_type": "code",
      "source": [
        "import re\n",
        "\n",
        "#input string\n",
        "input_str = \"hello how are$ you!!\"\n",
        "\n",
        "#Using regular expressions to remove special characters\n",
        "clean_str = re.sub(r\"[^a-zA-Z0-9\\s]\",\"\",input_str)\n",
        "\n",
        "print(clean_str)"
      ],
      "metadata": {
        "colab": {
          "base_uri": "https://localhost:8080/"
        },
        "id": "0mWfZ5cKBv87",
        "outputId": "bba397e0-1474-4a9d-edd1-5edbe0cae6c9"
      },
      "execution_count": 3,
      "outputs": [
        {
          "output_type": "stream",
          "name": "stdout",
          "text": [
            "hello how are you\n"
          ]
        }
      ]
    },
    {
      "cell_type": "code",
      "source": [
        "import re\n",
        "\n",
        "#input string\n",
        "input_str = \"hello123 how are$ you!!\"\n",
        "\n",
        "#Using regular expressions to remove special characters\n",
        "clean_str = re.sub(r\"[^a-zA-Z0-9\\s]\",\"\",input_str)\n",
        "\n",
        "print(clean_str)"
      ],
      "metadata": {
        "colab": {
          "base_uri": "https://localhost:8080/"
        },
        "id": "6qD3n4pVCiDD",
        "outputId": "0394fcd7-1d12-4d86-8848-226db13565ee"
      },
      "execution_count": 7,
      "outputs": [
        {
          "output_type": "stream",
          "name": "stdout",
          "text": [
            "hello123 how are you\n"
          ]
        }
      ]
    },
    {
      "cell_type": "markdown",
      "source": [
        "## Libraries in the field of NLP\n",
        "\n",
        "- SpaCy - Natural language processing library in Python that can be used to tokenize and process textual data\n",
        "- nltk"
      ],
      "metadata": {
        "id": "hiMoXE9RDUvv"
      }
    },
    {
      "cell_type": "code",
      "source": [
        "import spacy\n",
        "\n",
        "# Load the spacy model\n",
        "nlp = spacy.load(\"en_core_web_sm\")\n",
        "\n",
        "# Input string\n",
        "input_str = \"hello how are$ you!!\"\n",
        "\n",
        "# Function to clean the string\n",
        "def clean_text(text):\n",
        "  cleaned_text = ''.join(char for char in text if char.isalpha() or char.isspace())\n",
        "  doc = nlp(cleaned_text)\n",
        "  return ' '.join(token.text for token in doc)\n",
        "\n",
        "# Get the final output\n",
        "clean_str = clean_text(input_str)\n",
        "print(clean_str)"
      ],
      "metadata": {
        "colab": {
          "base_uri": "https://localhost:8080/"
        },
        "id": "ZnvIevlQEkc6",
        "outputId": "f75cea59-d2fe-400c-9c4b-25b6c5ed4925"
      },
      "execution_count": 13,
      "outputs": [
        {
          "output_type": "stream",
          "name": "stdout",
          "text": [
            "hello how are you\n"
          ]
        }
      ]
    },
    {
      "cell_type": "code",
      "source": [
        "import nltk\n",
        "\n",
        "nltk.download('punkt')\n",
        "\n",
        "input_str = \"hello how are$ you!!\"\n",
        "\n",
        "# Tokenize\n",
        "tokens = nltk.word_tokenize(input_str)\n",
        "\n",
        "# Remove the special characters\n",
        "clean_tokens = [token for token in tokens if token.isalnum()]\n",
        "\n",
        "clean_str = ' '.join(clean_tokens)\n",
        "\n",
        "print(clean_str)"
      ],
      "metadata": {
        "colab": {
          "base_uri": "https://localhost:8080/"
        },
        "id": "MWFBK1omFVvB",
        "outputId": "c5f4a8cb-a410-45e4-ae5d-b3beff95c52f"
      },
      "execution_count": 15,
      "outputs": [
        {
          "output_type": "stream",
          "name": "stdout",
          "text": [
            "hello how are you\n"
          ]
        },
        {
          "output_type": "stream",
          "name": "stderr",
          "text": [
            "[nltk_data] Downloading package punkt to /root/nltk_data...\n",
            "[nltk_data]   Package punkt is already up-to-date!\n"
          ]
        }
      ]
    },
    {
      "cell_type": "code",
      "source": [],
      "metadata": {
        "id": "ihxvLmg3F4Oa"
      },
      "execution_count": null,
      "outputs": []
    }
  ]
}