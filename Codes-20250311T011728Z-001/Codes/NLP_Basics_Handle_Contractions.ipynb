{
  "cells": [
    {
      "cell_type": "code",
      "execution_count": 10,
      "metadata": {
        "colab": {
          "base_uri": "https://localhost:8080/"
        },
        "id": "wwnpntPfMrk7",
        "outputId": "2967dfc1-f046-4a3a-a886-27536d01d359"
      },
      "outputs": [
        {
          "output_type": "stream",
          "name": "stdout",
          "text": [
            "Requirement already satisfied: contractions in /usr/local/lib/python3.10/dist-packages (0.1.73)\n",
            "Requirement already satisfied: textsearch>=0.0.21 in /usr/local/lib/python3.10/dist-packages (from contractions) (0.0.24)\n",
            "Requirement already satisfied: anyascii in /usr/local/lib/python3.10/dist-packages (from textsearch>=0.0.21->contractions) (0.3.2)\n",
            "Requirement already satisfied: pyahocorasick in /usr/local/lib/python3.10/dist-packages (from textsearch>=0.0.21->contractions) (2.1.0)\n"
          ]
        }
      ],
      "source": [
        "!pip install contractions"
      ]
    },
    {
      "cell_type": "code",
      "source": [
        "import contractions\n",
        "\n",
        "txt = \"I can't believe it's already raining\"\n",
        "\n",
        "expanded_txt = contractions.fix(txt)\n",
        "\n",
        "print(expanded_txt)"
      ],
      "metadata": {
        "colab": {
          "base_uri": "https://localhost:8080/"
        },
        "id": "WuGjPECTNEo3",
        "outputId": "ba26e2fa-c637-44f7-d029-ccee4c4c06c8"
      },
      "execution_count": 11,
      "outputs": [
        {
          "output_type": "stream",
          "name": "stdout",
          "text": [
            "I cannot believe it is already raining\n"
          ]
        }
      ]
    },
    {
      "cell_type": "code",
      "source": [
        "import re\n",
        "\n",
        "def expand_contractions(text):\n",
        "  contractions_pattern = {\n",
        "      r\"(?i)can't\":\"cannot\",\n",
        "      r\"(?i)won't\":\"will not\",\n",
        "      r\"(?i)it's\":\"it is\",\n",
        "      r\"(?i)weren't\":\"were not\",\n",
        "      r\"(?i)I'm\":\"I am\",\n",
        "      r\"(?i)couldn't\":\"could not\"\n",
        "  }\n",
        "  for contraction, expansion in contractions_pattern.items():\n",
        "    text = re.sub(contraction,expansion,text)\n",
        "\n",
        "  return text"
      ],
      "metadata": {
        "id": "cvmQO14UNN_O"
      },
      "execution_count": 17,
      "outputs": []
    },
    {
      "cell_type": "code",
      "source": [
        "txt = \"I couldn't visit my aunt's place yesterday\"\n",
        "expanded_text = expand_contractions(txt)\n",
        "print(expanded_text)"
      ],
      "metadata": {
        "colab": {
          "base_uri": "https://localhost:8080/"
        },
        "id": "2VmS16pLN8cX",
        "outputId": "cac0b174-6f74-461b-811d-a0efe3f46b16"
      },
      "execution_count": 18,
      "outputs": [
        {
          "output_type": "stream",
          "name": "stdout",
          "text": [
            "I could not visit my aunt's place yesterday\n"
          ]
        }
      ]
    },
    {
      "cell_type": "code",
      "source": [],
      "metadata": {
        "id": "doa0EcFXOADN"
      },
      "execution_count": null,
      "outputs": []
    }
  ],
  "metadata": {
    "colab": {
      "provenance": []
    },
    "kernelspec": {
      "display_name": "Python 3",
      "name": "python3"
    },
    "language_info": {
      "name": "python"
    }
  },
  "nbformat": 4,
  "nbformat_minor": 0
}