{
  "nbformat": 4,
  "nbformat_minor": 0,
  "metadata": {
    "colab": {
      "provenance": []
    },
    "kernelspec": {
      "name": "python3",
      "display_name": "Python 3"
    },
    "language_info": {
      "name": "python"
    }
  },
  "cells": [
    {
      "cell_type": "code",
      "execution_count": 20,
      "metadata": {
        "id": "-qhr2sdoBvRg"
      },
      "outputs": [],
      "source": [
        "import gensim\n",
        "from gensim.models import Word2Vec,KeyedVectors"
      ]
    },
    {
      "cell_type": "code",
      "source": [
        "from google.colab import drive\n",
        "drive.mount('/content/drive')"
      ],
      "metadata": {
        "id": "eaz_vWW6RXY0",
        "outputId": "0642cae5-5f59-4b76-ce9f-6c5daf9fa61f",
        "colab": {
          "base_uri": "https://localhost:8080/"
        }
      },
      "execution_count": 21,
      "outputs": [
        {
          "output_type": "stream",
          "name": "stdout",
          "text": [
            "Drive already mounted at /content/drive; to attempt to forcibly remount, call drive.mount(\"/content/drive\", force_remount=True).\n"
          ]
        }
      ]
    },
    {
      "cell_type": "code",
      "source": [
        "model = KeyedVectors.load_word2vec_format('/content/drive/MyDrive/GoogleNews/GoogleNews-vectors-negative300.bin.gz',binary=True,limit=500000)"
      ],
      "metadata": {
        "id": "H_YYz4vZCCuV"
      },
      "execution_count": 22,
      "outputs": []
    },
    {
      "cell_type": "code",
      "source": [
        "model['man']"
      ],
      "metadata": {
        "colab": {
          "base_uri": "https://localhost:8080/"
        },
        "id": "gKbWz3wqgrl5",
        "outputId": "523f140f-2f05-40a1-bfd8-d5509295ebde"
      },
      "execution_count": 23,
      "outputs": [
        {
          "output_type": "execute_result",
          "data": {
            "text/plain": [
              "array([ 0.32617188,  0.13085938,  0.03466797, -0.08300781,  0.08984375,\n",
              "       -0.04125977, -0.19824219,  0.00689697,  0.14355469,  0.0019455 ,\n",
              "        0.02880859, -0.25      , -0.08398438, -0.15136719, -0.10205078,\n",
              "        0.04077148, -0.09765625,  0.05932617,  0.02978516, -0.10058594,\n",
              "       -0.13085938,  0.001297  ,  0.02612305, -0.27148438,  0.06396484,\n",
              "       -0.19140625, -0.078125  ,  0.25976562,  0.375     , -0.04541016,\n",
              "        0.16210938,  0.13671875, -0.06396484, -0.02062988, -0.09667969,\n",
              "        0.25390625,  0.24804688, -0.12695312,  0.07177734,  0.3203125 ,\n",
              "        0.03149414, -0.03857422,  0.21191406, -0.00811768,  0.22265625,\n",
              "       -0.13476562, -0.07617188,  0.01049805, -0.05175781,  0.03808594,\n",
              "       -0.13378906,  0.125     ,  0.0559082 , -0.18261719,  0.08154297,\n",
              "       -0.08447266, -0.07763672, -0.04345703,  0.08105469, -0.01092529,\n",
              "        0.17480469,  0.30664062, -0.04321289, -0.01416016,  0.09082031,\n",
              "       -0.00927734, -0.03442383, -0.11523438,  0.12451172, -0.0246582 ,\n",
              "        0.08544922,  0.14355469, -0.27734375,  0.03662109, -0.11035156,\n",
              "        0.13085938, -0.01721191, -0.08056641, -0.00708008, -0.02954102,\n",
              "        0.30078125, -0.09033203,  0.03149414, -0.18652344, -0.11181641,\n",
              "        0.10253906, -0.25976562, -0.02209473,  0.16796875, -0.05322266,\n",
              "       -0.14550781, -0.01049805, -0.03039551, -0.03857422,  0.11523438,\n",
              "       -0.0062561 , -0.13964844,  0.08007812,  0.06103516, -0.15332031,\n",
              "       -0.11132812, -0.14160156,  0.19824219, -0.06933594,  0.29296875,\n",
              "       -0.16015625,  0.20898438,  0.00041771,  0.01831055, -0.20214844,\n",
              "        0.04760742,  0.05810547, -0.0123291 , -0.01989746, -0.00364685,\n",
              "       -0.0135498 , -0.08251953, -0.03149414,  0.00717163,  0.20117188,\n",
              "        0.08300781, -0.0480957 , -0.26367188, -0.09667969, -0.22558594,\n",
              "       -0.09667969,  0.06494141, -0.02502441,  0.08496094,  0.03198242,\n",
              "       -0.07568359, -0.25390625, -0.11669922, -0.01446533, -0.16015625,\n",
              "       -0.00701904, -0.05712891,  0.02807617, -0.09179688,  0.25195312,\n",
              "        0.24121094,  0.06640625,  0.12988281,  0.17089844, -0.13671875,\n",
              "        0.1875    , -0.10009766, -0.04199219, -0.12011719,  0.00524902,\n",
              "        0.15625   , -0.203125  , -0.07128906, -0.06103516,  0.01635742,\n",
              "        0.18261719,  0.03588867, -0.04248047,  0.16796875, -0.15039062,\n",
              "       -0.16992188,  0.01831055,  0.27734375, -0.01269531, -0.0390625 ,\n",
              "       -0.15429688,  0.18457031, -0.07910156,  0.09033203, -0.02709961,\n",
              "        0.08251953,  0.06738281, -0.16113281, -0.19628906, -0.15234375,\n",
              "       -0.04711914,  0.04760742,  0.05908203, -0.16894531, -0.14941406,\n",
              "        0.12988281,  0.04321289,  0.02624512, -0.1796875 , -0.19628906,\n",
              "        0.06445312,  0.08935547,  0.1640625 , -0.03808594, -0.09814453,\n",
              "       -0.01483154,  0.1875    ,  0.12792969,  0.22753906,  0.01818848,\n",
              "       -0.07958984, -0.11376953, -0.06933594, -0.15527344, -0.08105469,\n",
              "       -0.09277344, -0.11328125, -0.15136719, -0.08007812, -0.05126953,\n",
              "       -0.15332031,  0.11669922,  0.06835938,  0.0324707 , -0.33984375,\n",
              "       -0.08154297, -0.08349609,  0.04003906,  0.04907227, -0.24121094,\n",
              "       -0.13476562, -0.05932617,  0.12158203, -0.34179688,  0.16503906,\n",
              "        0.06176758, -0.18164062,  0.20117188, -0.07714844,  0.1640625 ,\n",
              "        0.00402832,  0.30273438, -0.10009766, -0.13671875, -0.05957031,\n",
              "        0.0625    , -0.21289062, -0.06542969,  0.1796875 , -0.07763672,\n",
              "       -0.01928711, -0.15039062, -0.00106049,  0.03417969,  0.03344727,\n",
              "        0.19335938,  0.01965332, -0.19921875, -0.10644531,  0.01525879,\n",
              "        0.00927734,  0.01416016, -0.02392578,  0.05883789,  0.02368164,\n",
              "        0.125     ,  0.04760742, -0.05566406,  0.11572266,  0.14746094,\n",
              "        0.1015625 , -0.07128906, -0.07714844, -0.12597656,  0.0291748 ,\n",
              "        0.09521484, -0.12402344, -0.109375  , -0.12890625,  0.16308594,\n",
              "        0.28320312, -0.03149414,  0.12304688, -0.23242188, -0.09375   ,\n",
              "       -0.12988281,  0.0135498 , -0.03881836, -0.08251953,  0.00897217,\n",
              "        0.16308594,  0.10546875, -0.13867188, -0.16503906, -0.03857422,\n",
              "        0.10839844, -0.10498047,  0.06396484,  0.38867188, -0.05981445,\n",
              "       -0.0612793 , -0.10449219, -0.16796875,  0.07177734,  0.13964844,\n",
              "        0.15527344, -0.03125   , -0.20214844, -0.12988281, -0.10058594,\n",
              "       -0.06396484, -0.08349609, -0.30273438, -0.08007812,  0.02099609],\n",
              "      dtype=float32)"
            ]
          },
          "metadata": {},
          "execution_count": 23
        }
      ]
    },
    {
      "cell_type": "code",
      "source": [
        "model['man'].shape"
      ],
      "metadata": {
        "colab": {
          "base_uri": "https://localhost:8080/"
        },
        "id": "AhWrDVjlg31k",
        "outputId": "c41e35e2-4fa6-47f3-c9b3-86c1668adca8"
      },
      "execution_count": 24,
      "outputs": [
        {
          "output_type": "execute_result",
          "data": {
            "text/plain": [
              "(300,)"
            ]
          },
          "metadata": {},
          "execution_count": 24
        }
      ]
    },
    {
      "cell_type": "code",
      "source": [
        "model['glass']"
      ],
      "metadata": {
        "colab": {
          "base_uri": "https://localhost:8080/"
        },
        "id": "0ag6uLbbgyWi",
        "outputId": "ba748b2f-19ec-4ec2-f0ac-e779aa317bfb"
      },
      "execution_count": 25,
      "outputs": [
        {
          "output_type": "execute_result",
          "data": {
            "text/plain": [
              "array([-0.22363281,  0.12402344, -0.09130859,  0.03808594,  0.04833984,\n",
              "        0.25390625,  0.4296875 , -0.15039062,  0.28515625,  0.49023438,\n",
              "       -0.20507812, -0.30664062,  0.11669922, -0.29882812, -0.13476562,\n",
              "       -0.09570312, -0.12109375, -0.08105469,  0.02380371, -0.07421875,\n",
              "        0.15722656,  0.04614258,  0.12695312, -0.08300781, -0.140625  ,\n",
              "        0.29882812,  0.05688477,  0.24121094, -0.07763672, -0.03015137,\n",
              "       -0.09960938, -0.08203125, -0.08837891, -0.07177734,  0.11621094,\n",
              "       -0.14355469, -0.08837891,  0.203125  , -0.17382812,  0.10595703,\n",
              "        0.01953125,  0.0145874 ,  0.10839844, -0.1484375 ,  0.13183594,\n",
              "        0.0534668 , -0.10546875, -0.07861328,  0.046875  , -0.06494141,\n",
              "       -0.11230469,  0.18261719, -0.10107422, -0.06542969, -0.14550781,\n",
              "        0.05004883,  0.03759766,  0.10351562, -0.02526855, -0.07958984,\n",
              "       -0.22753906, -0.07861328, -0.09570312, -0.3125    , -0.16699219,\n",
              "        0.09326172,  0.17089844, -0.21972656,  0.10888672,  0.12597656,\n",
              "        0.04516602, -0.06347656,  0.4375    , -0.04736328, -0.45507812,\n",
              "       -0.03173828,  0.01135254,  0.04174805,  0.16699219, -0.30273438,\n",
              "       -0.12255859, -0.29101562, -0.13574219, -0.3828125 , -0.05029297,\n",
              "        0.14648438, -0.0859375 ,  0.01733398,  0.10595703, -0.27539062,\n",
              "       -0.30273438,  0.08740234,  0.05810547,  0.08544922, -0.0625    ,\n",
              "        0.08203125, -0.03588867, -0.17089844,  0.2890625 ,  0.11230469,\n",
              "        0.0324707 , -0.1328125 , -0.01062012,  0.00457764,  0.2109375 ,\n",
              "       -0.13671875,  0.26757812, -0.06884766, -0.19824219, -0.23828125,\n",
              "        0.00738525, -0.03735352, -0.09570312, -0.06054688,  0.00479126,\n",
              "        0.11132812, -0.05078125, -0.19042969,  0.09179688,  0.08496094,\n",
              "       -0.02600098,  0.15429688, -0.02111816,  0.02575684,  0.03491211,\n",
              "       -0.04760742,  0.19238281, -0.18066406,  0.32421875,  0.16113281,\n",
              "       -0.06835938,  0.19335938, -0.16503906,  0.08056641,  0.08203125,\n",
              "        0.21875   , -0.00198364, -0.21484375,  0.01312256,  0.16796875,\n",
              "        0.14257812, -0.0703125 , -0.09765625, -0.0279541 ,  0.09765625,\n",
              "        0.21679688,  0.25976562, -0.046875  ,  0.07226562,  0.12695312,\n",
              "        0.03564453, -0.01879883, -0.11132812,  0.34375   , -0.02502441,\n",
              "        0.16601562,  0.00701904, -0.13867188,  0.00613403,  0.22949219,\n",
              "       -0.20019531,  0.12451172, -0.14453125, -0.08740234, -0.02832031,\n",
              "       -0.15527344,  0.0546875 ,  0.01916504, -0.19140625, -0.08886719,\n",
              "       -0.26757812, -0.21191406, -0.14941406,  0.08447266, -0.12451172,\n",
              "       -0.07177734,  0.07373047, -0.21386719, -0.29101562,  0.17382812,\n",
              "       -0.09619141, -0.07861328, -0.07910156,  0.09082031, -0.05297852,\n",
              "       -0.10986328,  0.08496094, -0.06689453, -0.06445312, -0.06298828,\n",
              "        0.125     ,  0.0088501 , -0.0168457 ,  0.2890625 , -0.16894531,\n",
              "        0.36523438,  0.01019287, -0.24023438,  0.04980469, -0.05029297,\n",
              "       -0.0007782 ,  0.2109375 , -0.36523438,  0.12792969,  0.29492188,\n",
              "        0.00488281,  0.15722656, -0.12402344, -0.08935547, -0.18652344,\n",
              "       -0.45703125, -0.01928711, -0.08691406,  0.0018158 ,  0.17382812,\n",
              "        0.1484375 , -0.25976562,  0.20019531,  0.00119781,  0.14160156,\n",
              "        0.02905273, -0.21972656, -0.30273438,  0.15820312,  0.12695312,\n",
              "        0.07568359, -0.08447266,  0.15332031,  0.15136719,  0.02575684,\n",
              "       -0.27148438,  0.07324219, -0.19726562,  0.21386719, -0.13867188,\n",
              "       -0.59375   , -0.25      ,  0.13671875, -0.01239014,  0.18457031,\n",
              "        0.12109375, -0.10009766, -0.01916504, -0.06933594,  0.06494141,\n",
              "        0.06396484, -0.2265625 ,  0.0246582 , -0.22851562, -0.26367188,\n",
              "        0.12451172, -0.14746094,  0.40039062,  0.01043701, -0.21386719,\n",
              "       -0.28125   , -0.00878906,  0.12255859, -0.1484375 , -0.02600098,\n",
              "        0.00735474, -0.1796875 , -0.33789062, -0.06298828,  0.05297852,\n",
              "        0.1171875 ,  0.20410156, -0.03540039, -0.32421875,  0.04150391,\n",
              "       -0.08154297,  0.00970459,  0.16308594,  0.22070312,  0.32226562,\n",
              "        0.0703125 ,  0.00436401, -0.14941406, -0.24316406,  0.05102539,\n",
              "       -0.20996094, -0.18457031,  0.13671875, -0.04321289,  0.12792969,\n",
              "        0.07128906,  0.02404785,  0.00312805, -0.0255127 ,  0.32421875,\n",
              "       -0.10986328, -0.03735352,  0.01721191, -0.0378418 , -0.04443359,\n",
              "       -0.16894531,  0.29882812, -0.02307129,  0.11376953, -0.33789062],\n",
              "      dtype=float32)"
            ]
          },
          "metadata": {},
          "execution_count": 25
        }
      ]
    },
    {
      "cell_type": "code",
      "source": [
        "model.most_similar('man')"
      ],
      "metadata": {
        "colab": {
          "base_uri": "https://localhost:8080/"
        },
        "id": "RGo-KkNrg8PR",
        "outputId": "6d38b09e-35a0-4aec-ae52-f4eb2d83d5a5"
      },
      "execution_count": 26,
      "outputs": [
        {
          "output_type": "execute_result",
          "data": {
            "text/plain": [
              "[('woman', 0.7664012908935547),\n",
              " ('boy', 0.6824871301651001),\n",
              " ('teenager', 0.6586930155754089),\n",
              " ('teenage_girl', 0.6147903203964233),\n",
              " ('girl', 0.5921714305877686),\n",
              " ('robber', 0.5585119128227234),\n",
              " ('Robbery_suspect', 0.5584409832954407),\n",
              " ('teen_ager', 0.5549196600914001),\n",
              " ('men', 0.5489763021469116),\n",
              " ('guy', 0.5420035123825073)]"
            ]
          },
          "metadata": {},
          "execution_count": 26
        }
      ]
    },
    {
      "cell_type": "code",
      "source": [
        "model.most_similar('cricket')"
      ],
      "metadata": {
        "colab": {
          "base_uri": "https://localhost:8080/"
        },
        "id": "Yu-yTiA4hThS",
        "outputId": "606f61fa-9a7b-4d30-8576-5968cd1d8e9c"
      },
      "execution_count": 27,
      "outputs": [
        {
          "output_type": "execute_result",
          "data": {
            "text/plain": [
              "[('cricketing', 0.8372225761413574),\n",
              " ('cricketers', 0.8165745735168457),\n",
              " ('Test_cricket', 0.8094819188117981),\n",
              " ('Twenty##_cricket', 0.8068488240242004),\n",
              " ('Twenty##', 0.7624265551567078),\n",
              " ('Cricket', 0.75413978099823),\n",
              " ('cricketer', 0.7372578382492065),\n",
              " ('twenty##', 0.7316356897354126),\n",
              " ('T##_cricket', 0.7304614186286926),\n",
              " ('West_Indies_cricket', 0.6987985968589783)]"
            ]
          },
          "metadata": {},
          "execution_count": 27
        }
      ]
    },
    {
      "cell_type": "code",
      "source": [
        "model.most_similar('facebook')"
      ],
      "metadata": {
        "colab": {
          "base_uri": "https://localhost:8080/"
        },
        "id": "-Rmle2FdhiJK",
        "outputId": "28f3e9e8-21d6-49c9-de6e-b50fa269ef8e"
      },
      "execution_count": 28,
      "outputs": [
        {
          "output_type": "execute_result",
          "data": {
            "text/plain": [
              "[('Facebook', 0.7563533186912537),\n",
              " ('FaceBook', 0.7076998949050903),\n",
              " ('twitter', 0.6988552212715149),\n",
              " ('myspace', 0.6941817998886108),\n",
              " ('Twitter', 0.664244532585144),\n",
              " ('Facebook.com', 0.6529868245124817),\n",
              " ('FacebookFacebook', 0.6162722110748291),\n",
              " ('facebook.com', 0.6135972142219543),\n",
              " ('Twitter.com', 0.6102108359336853),\n",
              " ('TwitterTwitter', 0.6085205674171448)]"
            ]
          },
          "metadata": {},
          "execution_count": 28
        }
      ]
    },
    {
      "cell_type": "code",
      "source": [
        "model.most_similar('woman')"
      ],
      "metadata": {
        "colab": {
          "base_uri": "https://localhost:8080/"
        },
        "id": "N9uPiKrfhlfj",
        "outputId": "dc20213e-0c75-4f9e-e6a5-f01a45949dfc"
      },
      "execution_count": 29,
      "outputs": [
        {
          "output_type": "execute_result",
          "data": {
            "text/plain": [
              "[('man', 0.7664012908935547),\n",
              " ('girl', 0.7494640946388245),\n",
              " ('teenage_girl', 0.7336829304695129),\n",
              " ('teenager', 0.6317085027694702),\n",
              " ('lady', 0.6288785934448242),\n",
              " ('teenaged_girl', 0.6141784191131592),\n",
              " ('mother', 0.6076306104660034),\n",
              " ('policewoman', 0.6069462299346924),\n",
              " ('boy', 0.5975907444953918),\n",
              " ('Woman', 0.5770983099937439)]"
            ]
          },
          "metadata": {},
          "execution_count": 29
        }
      ]
    },
    {
      "cell_type": "code",
      "source": [
        "model.similarity('man','woman')"
      ],
      "metadata": {
        "colab": {
          "base_uri": "https://localhost:8080/"
        },
        "id": "y9RLKHUHhoJx",
        "outputId": "d77ac6f7-dbd8-4081-d46c-e0e97d7f48a3"
      },
      "execution_count": 30,
      "outputs": [
        {
          "output_type": "execute_result",
          "data": {
            "text/plain": [
              "0.76640123"
            ]
          },
          "metadata": {},
          "execution_count": 30
        }
      ]
    },
    {
      "cell_type": "code",
      "source": [
        "model.similarity('Python','man')"
      ],
      "metadata": {
        "colab": {
          "base_uri": "https://localhost:8080/"
        },
        "id": "tMGtA6vghsi7",
        "outputId": "ec211875-b032-49b9-ef89-6552738922ae"
      },
      "execution_count": 31,
      "outputs": [
        {
          "output_type": "execute_result",
          "data": {
            "text/plain": [
              "0.035492986"
            ]
          },
          "metadata": {},
          "execution_count": 31
        }
      ]
    },
    {
      "cell_type": "code",
      "source": [
        "model.similarity('Java','man')"
      ],
      "metadata": {
        "colab": {
          "base_uri": "https://localhost:8080/"
        },
        "id": "dqsJeTLghvOR",
        "outputId": "a03dc272-895e-4fa9-aede-b3aebe8a8933"
      },
      "execution_count": 32,
      "outputs": [
        {
          "output_type": "execute_result",
          "data": {
            "text/plain": [
              "-0.017741553"
            ]
          },
          "metadata": {},
          "execution_count": 32
        }
      ]
    },
    {
      "cell_type": "code",
      "source": [
        "model.doesnt_match(['JAVA', 'Python', 'Elephant'])"
      ],
      "metadata": {
        "colab": {
          "base_uri": "https://localhost:8080/",
          "height": 36
        },
        "id": "WYc9i3b0hxsT",
        "outputId": "662461ce-1cc2-44b7-ae0e-38c085b6a6be"
      },
      "execution_count": 34,
      "outputs": [
        {
          "output_type": "execute_result",
          "data": {
            "text/plain": [
              "'Elephant'"
            ],
            "application/vnd.google.colaboratory.intrinsic+json": {
              "type": "string"
            }
          },
          "metadata": {},
          "execution_count": 34
        }
      ]
    },
    {
      "cell_type": "code",
      "source": [
        "vec = model['king'] - model['man'] + model['woman']\n",
        "model.most_similar([vec])"
      ],
      "metadata": {
        "colab": {
          "base_uri": "https://localhost:8080/"
        },
        "id": "KY0khZCsh3DS",
        "outputId": "e46905a1-647f-48a5-c9c0-e65db7e76e3b"
      },
      "execution_count": 36,
      "outputs": [
        {
          "output_type": "execute_result",
          "data": {
            "text/plain": [
              "[('king', 0.8449392318725586),\n",
              " ('queen', 0.7300517559051514),\n",
              " ('monarch', 0.645466148853302),\n",
              " ('princess', 0.6156251430511475),\n",
              " ('crown_prince', 0.5818676352500916),\n",
              " ('prince', 0.5777117609977722),\n",
              " ('kings', 0.5613663792610168),\n",
              " ('sultan', 0.5376775860786438),\n",
              " ('queens', 0.5289887189865112),\n",
              " ('ruler', 0.5247419476509094)]"
            ]
          },
          "metadata": {},
          "execution_count": 36
        }
      ]
    },
    {
      "cell_type": "code",
      "source": [
        "model['king'].shape"
      ],
      "metadata": {
        "colab": {
          "base_uri": "https://localhost:8080/"
        },
        "id": "Us3aUobQh_5S",
        "outputId": "4ec8de47-d52f-464c-dcdd-857107327443"
      },
      "execution_count": 37,
      "outputs": [
        {
          "output_type": "execute_result",
          "data": {
            "text/plain": [
              "(300,)"
            ]
          },
          "metadata": {},
          "execution_count": 37
        }
      ]
    },
    {
      "cell_type": "code",
      "source": [
        "# king, queen, woman, girl, boy, man, water"
      ],
      "metadata": {
        "id": "9ZJT9rIJlNgI"
      },
      "execution_count": null,
      "outputs": []
    },
    {
      "cell_type": "code",
      "source": [
        "model['king'][0:50]"
      ],
      "metadata": {
        "colab": {
          "base_uri": "https://localhost:8080/"
        },
        "id": "hAbWhsZflcj6",
        "outputId": "9bc842f2-a481-405c-b64b-4b0b214c1546"
      },
      "execution_count": 38,
      "outputs": [
        {
          "output_type": "execute_result",
          "data": {
            "text/plain": [
              "array([ 0.12597656,  0.02978516,  0.00860596,  0.13964844, -0.02563477,\n",
              "       -0.03613281,  0.11181641, -0.19824219,  0.05126953,  0.36328125,\n",
              "       -0.2421875 , -0.30273438, -0.17773438, -0.02490234, -0.16796875,\n",
              "       -0.16992188,  0.03466797,  0.00521851,  0.04638672,  0.12890625,\n",
              "        0.13671875,  0.11279297,  0.05957031,  0.13671875,  0.10107422,\n",
              "       -0.17675781, -0.25195312,  0.05981445,  0.34179688, -0.03112793,\n",
              "        0.10449219,  0.06176758,  0.12451172,  0.40039062, -0.32226562,\n",
              "        0.08398438,  0.0390625 ,  0.00585938,  0.0703125 ,  0.17285156,\n",
              "        0.13867188, -0.23144531,  0.28320312,  0.14257812,  0.34179688,\n",
              "       -0.02392578, -0.10986328,  0.03320312, -0.0546875 ,  0.01531982],\n",
              "      dtype=float32)"
            ]
          },
          "metadata": {},
          "execution_count": 38
        }
      ]
    },
    {
      "cell_type": "code",
      "source": [
        "import seaborn as sns\n",
        "import numpy as np\n",
        "import pandas as pd\n",
        "import matplotlib.pyplot as plt\n",
        "\n",
        "# king, queen, woman, girl, boy, man, water\n",
        "words = ['queen', 'woman', 'girl', 'boy', 'man', 'king', 'water']\n",
        "embeddings = np.array([\n",
        "    model['queen'][0:10],\n",
        "    model['woman'][0:10],\n",
        "    model['girl'][0:10],\n",
        "    model['boy'][0:10],\n",
        "    model['man'][0:10],\n",
        "    model['king'][0:10],\n",
        "    model['water'][0:10],\n",
        "                       ])\n",
        "\n",
        "df = pd.DataFrame(embeddings, index=words)"
      ],
      "metadata": {
        "id": "3pYYxtlcld25"
      },
      "execution_count": 41,
      "outputs": []
    },
    {
      "cell_type": "code",
      "source": [
        "# Create a hashmap\n",
        "plt.figure(figsize=(18,16))\n",
        "heatmap = sns.heatmap(df, cmap='crest')\n",
        "plt.show()"
      ],
      "metadata": {
        "colab": {
          "base_uri": "https://localhost:8080/",
          "height": 738
        },
        "id": "EjHeFzJ0l77p",
        "outputId": "4f9c3fb5-36d8-4928-b450-2f7bf3ebd0db"
      },
      "execution_count": 42,
      "outputs": [
        {
          "output_type": "display_data",
          "data": {
            "text/plain": [
              "<Figure size 1800x1600 with 2 Axes>"
            ],
            "image/png": "[encoded data removed]"
          },
          "metadata": {}
        }
      ]
    },
    {
      "cell_type": "code",
      "source": [],
      "metadata": {
        "id": "NQxv1O-6mHpp"
      },
      "execution_count": null,
      "outputs": []
    }
  ]
}