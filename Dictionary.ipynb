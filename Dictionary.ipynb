{
 "cells": [
  {
   "cell_type": "markdown",
   "id": "9a9b735c-94c4-4b78-b84c-4af6f1c73634",
   "metadata": {},
   "source": [
    "# Dictionary\n",
    "- Dictionary stores elements as keys and value pairs\n",
    "- The key is like an index, its always unique & immutable\n",
    "- The values are the objects that contain information\n",
    "- Values are accessed using their keys\n",
    "- Each key is followed by a value seperated by a colon\n",
    "- the values can be immutable, mutable, & duplicates\n",
    "- Each key and value pair is seperated by a comma enclosed inside curly brackets"
   ]
  },
  {
   "cell_type": "code",
   "execution_count": 1,
   "id": "e3edb9a9-ea32-4c8e-b153-c9679f21a008",
   "metadata": {},
   "outputs": [],
   "source": [
    "Dict = {\"name\":\"nour\",\"age\":10}"
   ]
  },
  {
   "cell_type": "code",
   "execution_count": 2,
   "id": "7876fdaf-1f24-46f4-923a-32ad51f559e6",
   "metadata": {},
   "outputs": [
    {
     "data": {
      "text/plain": [
       "dict"
      ]
     },
     "execution_count": 2,
     "metadata": {},
     "output_type": "execute_result"
    }
   ],
   "source": [
    "type(Dict)"
   ]
  },
  {
   "cell_type": "code",
   "execution_count": 3,
   "id": "73d35593-2da8-45cb-93fc-fe08ff983740",
   "metadata": {},
   "outputs": [
    {
     "data": {
      "text/plain": [
       "set"
      ]
     },
     "execution_count": 3,
     "metadata": {},
     "output_type": "execute_result"
    }
   ],
   "source": [
    "var = {\"name\",\"nour\",\"age\",10}\n",
    "type(var)"
   ]
  },
  {
   "cell_type": "code",
   "execution_count": 6,
   "id": "e76985be-297e-4141-8d7c-bf5836e111a2",
   "metadata": {},
   "outputs": [
    {
     "name": "stdout",
     "output_type": "stream",
     "text": [
      "inr\n",
      "USD\n",
      "HKD\n"
     ]
    }
   ],
   "source": [
    "d1 = {\"india\":\"inr\",\"USA\":\"USD\",\"hong kong\": \"HKD\"}\n",
    "print(d1[\"india\"])\n",
    "print(d1[\"USA\"])\n",
    "print(d1[\"hong kong\"])"
   ]
  },
  {
   "cell_type": "code",
   "execution_count": 7,
   "id": "9637ae07-2f29-4ec6-9749-95de5053cfa4",
   "metadata": {},
   "outputs": [
    {
     "data": {
      "text/plain": [
       "{'india': 'New', 'USA': 'USD', 'hong kong': 'HKD'}"
      ]
     },
     "execution_count": 7,
     "metadata": {},
     "output_type": "execute_result"
    }
   ],
   "source": [
    "d1[\"india\"] = \"New\"\n",
    "d1"
   ]
  },
  {
   "cell_type": "code",
   "execution_count": 8,
   "id": "c2784ce6-6371-4356-a3f2-1b32078d3a0f",
   "metadata": {},
   "outputs": [
    {
     "data": {
      "text/plain": [
       "3"
      ]
     },
     "execution_count": 8,
     "metadata": {},
     "output_type": "execute_result"
    }
   ],
   "source": [
    "len(d1)"
   ]
  },
  {
   "cell_type": "code",
   "execution_count": 11,
   "id": "468a2a81-55d2-4e9d-bf57-dd52123ccf0e",
   "metadata": {},
   "outputs": [
    {
     "data": {
      "text/plain": [
       "{'india': 'New', 'USA': 'USD', 'hong kong': 'HKD', 'japan': 'anything'}"
      ]
     },
     "execution_count": 11,
     "metadata": {},
     "output_type": "execute_result"
    }
   ],
   "source": [
    "#this is inserting a new entity(key,value) in our dictionary\n",
    "d1[\"japan\"]=\"anything\"\n",
    "d1"
   ]
  },
  {
   "cell_type": "code",
   "execution_count": 12,
   "id": "e1b16344-6f13-40e3-9200-7f4b85e17ef6",
   "metadata": {},
   "outputs": [
    {
     "data": {
      "text/plain": [
       "{'india': 'New', 'USA': 'USD', 'hong kong': 'HKD'}"
      ]
     },
     "execution_count": 12,
     "metadata": {},
     "output_type": "execute_result"
    }
   ],
   "source": [
    "#deleting a key value pair\n",
    "del d1[\"japan\"]\n",
    "d1"
   ]
  },
  {
   "cell_type": "code",
   "execution_count": 13,
   "id": "2b57966d-6d6f-4226-afbc-c88681d81bf8",
   "metadata": {},
   "outputs": [
    {
     "data": {
      "text/plain": [
       "['USA', 'hong kong', 'india']"
      ]
     },
     "execution_count": 13,
     "metadata": {},
     "output_type": "execute_result"
    }
   ],
   "source": [
    "#sorting a dictionary\n",
    "sorted(d1)"
   ]
  },
  {
   "cell_type": "code",
   "execution_count": 14,
   "id": "89f5350c-4269-4682-a9b4-03bff9e85c8f",
   "metadata": {},
   "outputs": [
    {
     "data": {
      "text/plain": [
       "dict_values(['New', 'USD', 'HKD'])"
      ]
     },
     "execution_count": 14,
     "metadata": {},
     "output_type": "execute_result"
    }
   ],
   "source": [
    "#values() method it gets the value of each key inside a list\n",
    "d1.values()"
   ]
  },
  {
   "cell_type": "code",
   "execution_count": 15,
   "id": "8ff41bdb-675a-4cc9-a54c-402e8caad6e3",
   "metadata": {},
   "outputs": [
    {
     "data": {
      "text/plain": [
       "dict_keys(['india', 'USA', 'hong kong'])"
      ]
     },
     "execution_count": 15,
     "metadata": {},
     "output_type": "execute_result"
    }
   ],
   "source": [
    "#keys() method it gets all the keys in the dictionary available\n",
    "d1.keys()"
   ]
  },
  {
   "cell_type": "code",
   "execution_count": 16,
   "id": "94c318cd-cdf7-4412-98d8-ca8f6ebf63db",
   "metadata": {},
   "outputs": [
    {
     "data": {
      "text/plain": [
       "'New'"
      ]
     },
     "execution_count": 16,
     "metadata": {},
     "output_type": "execute_result"
    }
   ],
   "source": [
    "#get() method\n",
    "d1.get(\"india\")"
   ]
  },
  {
   "cell_type": "code",
   "execution_count": 17,
   "id": "e3d45b1d-b221-4c1a-b656-6cccfbf3ce16",
   "metadata": {},
   "outputs": [
    {
     "data": {
      "text/plain": [
       "{'india': 'rs', 'USA': 'USD', 'hong kong': 'HKD'}"
      ]
     },
     "execution_count": 17,
     "metadata": {},
     "output_type": "execute_result"
    }
   ],
   "source": [
    "#update() method\n",
    "d1.update({\"india\":\"rs\"})\n",
    "d1[\"india\"] = \"rs\"\n",
    "d1"
   ]
  },
  {
   "cell_type": "code",
   "execution_count": 18,
   "id": "54db24d2-19e8-4d95-81a1-217ae1e7b6b2",
   "metadata": {},
   "outputs": [
    {
     "name": "stdout",
     "output_type": "stream",
     "text": [
      "['python', 'r']\n"
     ]
    }
   ],
   "source": [
    "d = {'python':40,'r':45}\n",
    "print(list(d.keys()))"
   ]
  },
  {
   "cell_type": "code",
   "execution_count": 19,
   "id": "9143fb40-fb35-41a6-9fde-976783d72d9f",
   "metadata": {},
   "outputs": [],
   "source": [
    "dict1= {'name':'nour','profession':'singer'}\n",
    "dict1[\"label\"]=\"NA\""
   ]
  },
  {
   "cell_type": "code",
   "execution_count": 20,
   "id": "01c35a31-4d85-4949-9b4d-1a2462ec6db2",
   "metadata": {},
   "outputs": [
    {
     "data": {
      "text/plain": [
       "dict_keys(['name', 'profession', 'label'])"
      ]
     },
     "execution_count": 20,
     "metadata": {},
     "output_type": "execute_result"
    }
   ],
   "source": [
    "dict1.keys()"
   ]
  },
  {
   "cell_type": "code",
   "execution_count": 21,
   "id": "cead5fcc-31c3-43d1-ab33-6ec96e2a30cb",
   "metadata": {},
   "outputs": [],
   "source": [
    "del dict1['label']"
   ]
  },
  {
   "cell_type": "code",
   "execution_count": 22,
   "id": "735d4686-1fce-415f-a50e-2a52d8e06615",
   "metadata": {},
   "outputs": [
    {
     "data": {
      "text/plain": [
       "dict_keys(['name', 'profession'])"
      ]
     },
     "execution_count": 22,
     "metadata": {},
     "output_type": "execute_result"
    }
   ],
   "source": [
    "dict1.keys()"
   ]
  },
  {
   "cell_type": "code",
   "execution_count": 25,
   "id": "1e857808-16dd-4bde-84fc-71c8e89dfc67",
   "metadata": {},
   "outputs": [
    {
     "name": "stdout",
     "output_type": "stream",
     "text": [
      "NA\n"
     ]
    }
   ],
   "source": [
    "if 'label' in dict1.keys():\n",
    "    print(dict1['label'])\n",
    "else:\n",
    "    print('NA')"
   ]
  },
  {
   "cell_type": "code",
   "execution_count": null,
   "id": "806641f4-ed77-49a9-8992-42e3546c37c1",
   "metadata": {},
   "outputs": [],
   "source": []
  }
 ],
 "metadata": {
  "kernelspec": {
   "display_name": "Python 3 (ipykernel)",
   "language": "python",
   "name": "python3"
  },
  "language_info": {
   "codemirror_mode": {
    "name": "ipython",
    "version": 3
   },
   "file_extension": ".py",
   "mimetype": "text/x-python",
   "name": "python",
   "nbconvert_exporter": "python",
   "pygments_lexer": "ipython3",
   "version": "3.13.2"
  }
 },
 "nbformat": 4,
 "nbformat_minor": 5
}
