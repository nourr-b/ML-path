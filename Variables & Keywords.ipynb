{
 "cells": [
  {
   "cell_type": "raw",
   "id": "2b74dfca-bdb3-4e2a-9bf0-fdc77d550f7a",
   "metadata": {},
   "source": [
    "variables & keywords"
   ]
  },
  {
   "cell_type": "code",
   "execution_count": null,
   "id": "25f9ab8f-ab3a-4a57-8b3d-e519fe696746",
   "metadata": {},
   "outputs": [],
   "source": [
    "a = 'hello world'"
   ]
  },
  {
   "cell_type": "code",
   "execution_count": 2,
   "id": "ba9dad1e-6624-4c6e-885d-42bc7cd7cdb8",
   "metadata": {},
   "outputs": [
    {
     "name": "stdout",
     "output_type": "stream",
     "text": [
      "hello world\n"
     ]
    }
   ],
   "source": [
    "print(a)"
   ]
  },
  {
   "cell_type": "code",
   "execution_count": 3,
   "id": "33518b53-cdbc-4212-a4e8-94dadede869b",
   "metadata": {},
   "outputs": [
    {
     "data": {
      "text/plain": [
       "'hello world'"
      ]
     },
     "execution_count": 3,
     "metadata": {},
     "output_type": "execute_result"
    }
   ],
   "source": [
    "a"
   ]
  },
  {
   "cell_type": "code",
   "execution_count": 4,
   "id": "8efa9892-1ac1-4258-b088-39930a71276d",
   "metadata": {},
   "outputs": [
    {
     "data": {
      "text/plain": [
       "str"
      ]
     },
     "execution_count": 4,
     "metadata": {},
     "output_type": "execute_result"
    }
   ],
   "source": [
    "type(a)"
   ]
  },
  {
   "cell_type": "code",
   "execution_count": 5,
   "id": "7c1a86e6-3ff0-4259-b522-bd45fe5096a4",
   "metadata": {},
   "outputs": [],
   "source": [
    "my_age=23"
   ]
  },
  {
   "cell_type": "code",
   "execution_count": 6,
   "id": "67b0ac41-7d9a-4b62-95fb-4f5ba1a334b5",
   "metadata": {},
   "outputs": [
    {
     "data": {
      "text/plain": [
       "int"
      ]
     },
     "execution_count": 6,
     "metadata": {},
     "output_type": "execute_result"
    }
   ],
   "source": [
    "type(my_age)"
   ]
  },
  {
   "cell_type": "code",
   "execution_count": 7,
   "id": "12f00b25-a4a3-4b94-953c-2b25d9f6dc1b",
   "metadata": {},
   "outputs": [
    {
     "name": "stdout",
     "output_type": "stream",
     "text": [
      "23\n"
     ]
    }
   ],
   "source": [
    "print(my_age)"
   ]
  },
  {
   "cell_type": "code",
   "execution_count": 8,
   "id": "2bfe798d-e5bc-4366-a2e4-8cb7713b25ac",
   "metadata": {},
   "outputs": [],
   "source": [
    "my_name='nour'"
   ]
  },
  {
   "cell_type": "code",
   "execution_count": 9,
   "id": "01fe763b-367c-4375-87f1-2025cd8b31b9",
   "metadata": {},
   "outputs": [
    {
     "data": {
      "text/plain": [
       "89.4"
      ]
     },
     "execution_count": 9,
     "metadata": {},
     "output_type": "execute_result"
    }
   ],
   "source": [
    "score = 89.4\n",
    "score"
   ]
  },
  {
   "cell_type": "code",
   "execution_count": 10,
   "id": "f5aecd55-26f7-4531-afb9-5523b50e2786",
   "metadata": {},
   "outputs": [
    {
     "data": {
      "text/plain": [
       "float"
      ]
     },
     "execution_count": 10,
     "metadata": {},
     "output_type": "execute_result"
    }
   ],
   "source": [
    "type(score)"
   ]
  },
  {
   "cell_type": "code",
   "execution_count": 11,
   "id": "13e850ba-a4f5-4671-99f4-af96f6f8c008",
   "metadata": {},
   "outputs": [],
   "source": [
    "var = 'hello world,welcome to the class'"
   ]
  },
  {
   "cell_type": "code",
   "execution_count": 12,
   "id": "c22ed923-781e-4033-9b24-05b358b387b7",
   "metadata": {},
   "outputs": [
    {
     "name": "stdout",
     "output_type": "stream",
     "text": [
      "hello world,welcome to the class\n"
     ]
    }
   ],
   "source": [
    "print(var)"
   ]
  },
  {
   "cell_type": "code",
   "execution_count": 13,
   "id": "9100556d-cfba-47b4-8d65-74d9e0697d87",
   "metadata": {},
   "outputs": [],
   "source": [
    "a = \"10.5\""
   ]
  },
  {
   "cell_type": "code",
   "execution_count": 14,
   "id": "1c854eb3-8239-4824-97af-1e885e1b24f5",
   "metadata": {},
   "outputs": [
    {
     "name": "stdout",
     "output_type": "stream",
     "text": [
      "<class 'str'>\n"
     ]
    }
   ],
   "source": [
    "print(type(a))"
   ]
  },
  {
   "cell_type": "code",
   "execution_count": 15,
   "id": "89d3b3c3-a885-48b4-b2e2-5b3f27aaef3c",
   "metadata": {},
   "outputs": [
    {
     "data": {
      "text/plain": [
       "str"
      ]
     },
     "execution_count": 15,
     "metadata": {},
     "output_type": "execute_result"
    }
   ],
   "source": [
    "type(a)"
   ]
  },
  {
   "cell_type": "code",
   "execution_count": 17,
   "id": "679bdb84-5395-4dfd-9fc3-d1dc1cac4058",
   "metadata": {},
   "outputs": [
    {
     "name": "stdout",
     "output_type": "stream",
     "text": [
      "<class 'float'>\n"
     ]
    }
   ],
   "source": [
    "b = 10.5\n",
    "print(type(b))"
   ]
  },
  {
   "cell_type": "code",
   "execution_count": 18,
   "id": "1ad473be-919a-498d-aa69-fe8cf3842d77",
   "metadata": {},
   "outputs": [
    {
     "name": "stdout",
     "output_type": "stream",
     "text": [
      "<class 'bool'>\n"
     ]
    }
   ],
   "source": [
    "a = True\n",
    "print(type(a))"
   ]
  },
  {
   "cell_type": "code",
   "execution_count": 19,
   "id": "e3f7f283-4e08-4cf7-9c59-2c61006cb688",
   "metadata": {},
   "outputs": [
    {
     "name": "stdout",
     "output_type": "stream",
     "text": [
      "<class 'str'>\n"
     ]
    }
   ],
   "source": [
    "a = 'True'\n",
    "print(type(a))"
   ]
  },
  {
   "cell_type": "code",
   "execution_count": 20,
   "id": "00743d7a-4351-438b-8be4-f7ebb7dd550c",
   "metadata": {},
   "outputs": [
    {
     "name": "stdout",
     "output_type": "stream",
     "text": [
      "10\n",
      "15\n"
     ]
    }
   ],
   "source": [
    "a = 10\n",
    "A = 15\n",
    "\n",
    "print(a)\n",
    "print(A)"
   ]
  },
  {
   "cell_type": "code",
   "execution_count": 21,
   "id": "80e5de3b-5b2e-43b7-941c-99fba66b0cc5",
   "metadata": {},
   "outputs": [
    {
     "name": "stdout",
     "output_type": "stream",
     "text": [
      "9\n"
     ]
    }
   ],
   "source": [
    "a = 4\n",
    "b = 5\n",
    "c = a+b\n",
    "print(c)"
   ]
  },
  {
   "cell_type": "code",
   "execution_count": 22,
   "id": "e6018139-f69c-4ee3-af5f-db72571baf46",
   "metadata": {},
   "outputs": [
    {
     "name": "stdout",
     "output_type": "stream",
     "text": [
      "29\n"
     ]
    }
   ],
   "source": [
    "a = 14\n",
    "b = 15\n",
    "c = a+b\n",
    "print(c)"
   ]
  },
  {
   "cell_type": "code",
   "execution_count": 23,
   "id": "f6d69976-7792-452d-a585-e41f0d5af8fa",
   "metadata": {},
   "outputs": [
    {
     "data": {
      "text/plain": [
       "11"
      ]
     },
     "execution_count": 23,
     "metadata": {},
     "output_type": "execute_result"
    }
   ],
   "source": [
    "def sum_fun(a,b):\n",
    "    c = a+b\n",
    "    return c\n",
    "\n",
    "sum_fun(5,6)"
   ]
  },
  {
   "cell_type": "code",
   "execution_count": 24,
   "id": "03ef383f-dac5-450a-98bc-14ba7bf50a5f",
   "metadata": {},
   "outputs": [
    {
     "data": {
      "text/plain": [
       "11"
      ]
     },
     "execution_count": 24,
     "metadata": {},
     "output_type": "execute_result"
    }
   ],
   "source": [
    "def sum_fun(a,b):\n",
    "    c = a+b\n",
    "    return c\n",
    "\n",
    "a = 5\n",
    "b = 6\n",
    "sum_fun(a,b)"
   ]
  },
  {
   "cell_type": "code",
   "execution_count": null,
   "id": "d9579565-33e8-46b9-a3e2-a5431ec338f3",
   "metadata": {},
   "outputs": [],
   "source": []
  }
 ],
 "metadata": {
  "kernelspec": {
   "display_name": "Python 3 (ipykernel)",
   "language": "python",
   "name": "python3"
  },
  "language_info": {
   "codemirror_mode": {
    "name": "ipython",
    "version": 3
   },
   "file_extension": ".py",
   "mimetype": "text/x-python",
   "name": "python",
   "nbconvert_exporter": "python",
   "pygments_lexer": "ipython3",
   "version": "3.13.2"
  }
 },
 "nbformat": 4,
 "nbformat_minor": 5
}
